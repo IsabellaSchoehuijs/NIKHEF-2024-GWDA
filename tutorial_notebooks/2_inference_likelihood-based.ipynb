{
  "cells": [
    {
      "cell_type": "code",
      "execution_count": 1,
      "metadata": {
        "id": "_W3qAzSgIQQD",
        "outputId": "270e8795-377a-4d7e-e666-9d689b777f8b",
        "colab": {
          "base_uri": "https://localhost:8080/"
        }
      },
      "outputs": [
        {
          "output_type": "stream",
          "name": "stdout",
          "text": [
            "Collecting bilby\n",
            "  Downloading bilby-2.4.0-py3-none-any.whl.metadata (4.8 kB)\n",
            "Collecting lalsuite\n",
            "  Downloading lalsuite-7.25-cp311-cp311-manylinux_2_28_x86_64.whl.metadata (3.2 kB)\n",
            "Collecting bilby.cython>=0.3.0 (from bilby)\n",
            "  Downloading bilby.cython-0.5.3-cp311-cp311-manylinux_2_17_x86_64.manylinux2014_x86_64.whl.metadata (4.5 kB)\n",
            "Collecting dynesty>=2.0.1 (from bilby)\n",
            "  Downloading dynesty-2.1.5-py2.py3-none-any.whl.metadata (3.0 kB)\n",
            "Collecting emcee (from bilby)\n",
            "  Downloading emcee-3.1.6-py2.py3-none-any.whl.metadata (3.0 kB)\n",
            "Collecting corner (from bilby)\n",
            "  Downloading corner-2.2.3-py3-none-any.whl.metadata (2.2 kB)\n",
            "Requirement already satisfied: numpy in /usr/local/lib/python3.11/dist-packages (from bilby) (1.26.4)\n",
            "Requirement already satisfied: matplotlib in /usr/local/lib/python3.11/dist-packages (from bilby) (3.10.0)\n",
            "Requirement already satisfied: scipy>=1.5 in /usr/local/lib/python3.11/dist-packages (from bilby) (1.13.1)\n",
            "Requirement already satisfied: pandas in /usr/local/lib/python3.11/dist-packages (from bilby) (2.2.2)\n",
            "Collecting dill (from bilby)\n",
            "  Downloading dill-0.3.9-py3-none-any.whl.metadata (10 kB)\n",
            "Requirement already satisfied: tqdm in /usr/local/lib/python3.11/dist-packages (from bilby) (4.67.1)\n",
            "Requirement already satisfied: h5py in /usr/local/lib/python3.11/dist-packages (from bilby) (3.12.1)\n",
            "Requirement already satisfied: attrs in /usr/local/lib/python3.11/dist-packages (from bilby) (24.3.0)\n",
            "Requirement already satisfied: astropy in /usr/local/lib/python3.11/dist-packages (from lalsuite) (6.1.7)\n",
            "Collecting ligo-segments (from lalsuite)\n",
            "  Downloading ligo-segments-1.4.0.tar.gz (51 kB)\n",
            "\u001b[2K     \u001b[90m━━━━━━━━━━━━━━━━━━━━━━━━━━━━━━━━━━━━━━━━\u001b[0m \u001b[32m51.0/51.0 kB\u001b[0m \u001b[31m2.9 MB/s\u001b[0m eta \u001b[36m0:00:00\u001b[0m\n",
            "\u001b[?25h  Preparing metadata (setup.py) ... \u001b[?25l\u001b[?25hdone\n",
            "Collecting lscsoft-glue (from lalsuite)\n",
            "  Downloading lscsoft_glue-4.0.0-py3-none-any.whl.metadata (1.4 kB)\n",
            "Requirement already satisfied: python-dateutil in /usr/local/lib/python3.11/dist-packages (from lalsuite) (2.8.2)\n",
            "Requirement already satisfied: pyerfa>=2.0.1.1 in /usr/local/lib/python3.11/dist-packages (from astropy->lalsuite) (2.0.1.5)\n",
            "Requirement already satisfied: astropy-iers-data>=0.2024.10.28.0.34.7 in /usr/local/lib/python3.11/dist-packages (from astropy->lalsuite) (0.2025.1.6.0.33.42)\n",
            "Requirement already satisfied: PyYAML>=3.13 in /usr/local/lib/python3.11/dist-packages (from astropy->lalsuite) (6.0.2)\n",
            "Requirement already satisfied: packaging>=19.0 in /usr/local/lib/python3.11/dist-packages (from astropy->lalsuite) (24.2)\n",
            "Requirement already satisfied: contourpy>=1.0.1 in /usr/local/lib/python3.11/dist-packages (from matplotlib->bilby) (1.3.1)\n",
            "Requirement already satisfied: cycler>=0.10 in /usr/local/lib/python3.11/dist-packages (from matplotlib->bilby) (0.12.1)\n",
            "Requirement already satisfied: fonttools>=4.22.0 in /usr/local/lib/python3.11/dist-packages (from matplotlib->bilby) (4.55.3)\n",
            "Requirement already satisfied: kiwisolver>=1.3.1 in /usr/local/lib/python3.11/dist-packages (from matplotlib->bilby) (1.4.8)\n",
            "Requirement already satisfied: pillow>=8 in /usr/local/lib/python3.11/dist-packages (from matplotlib->bilby) (11.1.0)\n",
            "Requirement already satisfied: pyparsing>=2.3.1 in /usr/local/lib/python3.11/dist-packages (from matplotlib->bilby) (3.2.1)\n",
            "Requirement already satisfied: six>=1.5 in /usr/local/lib/python3.11/dist-packages (from python-dateutil->lalsuite) (1.17.0)\n",
            "Requirement already satisfied: pyOpenSSL in /usr/local/lib/python3.11/dist-packages (from lscsoft-glue->lalsuite) (24.2.1)\n",
            "Requirement already satisfied: pytz>=2020.1 in /usr/local/lib/python3.11/dist-packages (from pandas->bilby) (2024.2)\n",
            "Requirement already satisfied: tzdata>=2022.7 in /usr/local/lib/python3.11/dist-packages (from pandas->bilby) (2024.2)\n",
            "Requirement already satisfied: cryptography<44,>=41.0.5 in /usr/local/lib/python3.11/dist-packages (from pyOpenSSL->lscsoft-glue->lalsuite) (43.0.3)\n",
            "Requirement already satisfied: cffi>=1.12 in /usr/local/lib/python3.11/dist-packages (from cryptography<44,>=41.0.5->pyOpenSSL->lscsoft-glue->lalsuite) (1.17.1)\n",
            "Requirement already satisfied: pycparser in /usr/local/lib/python3.11/dist-packages (from cffi>=1.12->cryptography<44,>=41.0.5->pyOpenSSL->lscsoft-glue->lalsuite) (2.22)\n",
            "Downloading bilby-2.4.0-py3-none-any.whl (2.3 MB)\n",
            "\u001b[2K   \u001b[90m━━━━━━━━━━━━━━━━━━━━━━━━━━━━━━━━━━━━━━━━\u001b[0m \u001b[32m2.3/2.3 MB\u001b[0m \u001b[31m30.8 MB/s\u001b[0m eta \u001b[36m0:00:00\u001b[0m\n",
            "\u001b[?25hDownloading lalsuite-7.25-cp311-cp311-manylinux_2_28_x86_64.whl (40.4 MB)\n",
            "\u001b[2K   \u001b[90m━━━━━━━━━━━━━━━━━━━━━━━━━━━━━━━━━━━━━━━━\u001b[0m \u001b[32m40.4/40.4 MB\u001b[0m \u001b[31m15.1 MB/s\u001b[0m eta \u001b[36m0:00:00\u001b[0m\n",
            "\u001b[?25hDownloading bilby.cython-0.5.3-cp311-cp311-manylinux_2_17_x86_64.manylinux2014_x86_64.whl (983 kB)\n",
            "\u001b[2K   \u001b[90m━━━━━━━━━━━━━━━━━━━━━━━━━━━━━━━━━━━━━━━━\u001b[0m \u001b[32m983.9/983.9 kB\u001b[0m \u001b[31m24.5 MB/s\u001b[0m eta \u001b[36m0:00:00\u001b[0m\n",
            "\u001b[?25hDownloading dynesty-2.1.5-py2.py3-none-any.whl (108 kB)\n",
            "\u001b[2K   \u001b[90m━━━━━━━━━━━━━━━━━━━━━━━━━━━━━━━━━━━━━━━━\u001b[0m \u001b[32m108.2/108.2 kB\u001b[0m \u001b[31m7.0 MB/s\u001b[0m eta \u001b[36m0:00:00\u001b[0m\n",
            "\u001b[?25hDownloading corner-2.2.3-py3-none-any.whl (15 kB)\n",
            "Downloading dill-0.3.9-py3-none-any.whl (119 kB)\n",
            "\u001b[2K   \u001b[90m━━━━━━━━━━━━━━━━━━━━━━━━━━━━━━━━━━━━━━━━\u001b[0m \u001b[32m119.4/119.4 kB\u001b[0m \u001b[31m6.0 MB/s\u001b[0m eta \u001b[36m0:00:00\u001b[0m\n",
            "\u001b[?25hDownloading emcee-3.1.6-py2.py3-none-any.whl (47 kB)\n",
            "\u001b[2K   \u001b[90m━━━━━━━━━━━━━━━━━━━━━━━━━━━━━━━━━━━━━━━━\u001b[0m \u001b[32m47.4/47.4 kB\u001b[0m \u001b[31m3.0 MB/s\u001b[0m eta \u001b[36m0:00:00\u001b[0m\n",
            "\u001b[?25hDownloading lscsoft_glue-4.0.0-py3-none-any.whl (46 kB)\n",
            "\u001b[2K   \u001b[90m━━━━━━━━━━━━━━━━━━━━━━━━━━━━━━━━━━━━━━━━\u001b[0m \u001b[32m46.5/46.5 kB\u001b[0m \u001b[31m3.1 MB/s\u001b[0m eta \u001b[36m0:00:00\u001b[0m\n",
            "\u001b[?25hBuilding wheels for collected packages: ligo-segments\n",
            "  Building wheel for ligo-segments (setup.py) ... \u001b[?25l\u001b[?25hdone\n",
            "  Created wheel for ligo-segments: filename=ligo_segments-1.4.0-cp311-cp311-linux_x86_64.whl size=102029 sha256=becbabcafeddd1d150f5ee5a8423b198af06f6f9bd52fb3a576831e48c871bd1\n",
            "  Stored in directory: /root/.cache/pip/wheels/02/2b/93/c2ee2b6f4ea9572ee4f5ade0115c4bd0887be6228328740dae\n",
            "Successfully built ligo-segments\n",
            "Installing collected packages: dynesty, ligo-segments, emcee, dill, bilby.cython, corner, lscsoft-glue, bilby, lalsuite\n",
            "Successfully installed bilby-2.4.0 bilby.cython-0.5.3 corner-2.2.3 dill-0.3.9 dynesty-2.1.5 emcee-3.1.6 lalsuite-7.25 ligo-segments-1.4.0 lscsoft-glue-4.0.0\n"
          ]
        }
      ],
      "source": [
        "NEED_TO_INSTALL_PACKAGES = True\n",
        "if NEED_TO_INSTALL_PACKAGES:\n",
        "    ! pip install bilby  lalsuite #lalsimulation\n",
        "import bilby"
      ]
    },
    {
      "cell_type": "code",
      "execution_count": 2,
      "metadata": {
        "id": "DzOwTTUxIQQE",
        "outputId": "41cc239c-3af6-444b-9bf1-2947da0a3af4",
        "colab": {
          "base_uri": "https://localhost:8080/"
        }
      },
      "outputs": [
        {
          "output_type": "stream",
          "name": "stdout",
          "text": [
            "15.220129522101399\n"
          ]
        }
      ],
      "source": [
        "from bilby.gw import conversion\n",
        "\n",
        "#calculate the chirp mass from the component masses\n",
        "chirp_mass = conversion.component_masses_to_chirp_mass(mass_1=34.615, mass_2=9.545)\n",
        "print(chirp_mass)"
      ]
    },
    {
      "cell_type": "code",
      "execution_count": 3,
      "metadata": {
        "id": "SNd9uk51IQQE",
        "outputId": "bca32042-b007-44a6-fd37-c8bf564af7ac",
        "colab": {
          "base_uri": "https://localhost:8080/"
        }
      },
      "outputs": [
        {
          "output_type": "stream",
          "name": "stderr",
          "text": [
            "10:45 bilby INFO    : Using aligned spin prior\n",
            "10:45 bilby INFO    : No prior given, using default BBH priors in /usr/local/lib/python3.11/dist-packages/bilby/gw/prior_files/aligned_spins_bbh.prior.\n"
          ]
        },
        {
          "output_type": "stream",
          "name": "stdout",
          "text": [
            "dict_keys(['mass_1', 'mass_2', 'mass_ratio', 'chirp_mass', 'luminosity_distance', 'dec', 'ra', 'theta_jn', 'psi', 'phase', 'chi_1', 'chi_2'])\n"
          ]
        }
      ],
      "source": [
        "POSSIBLE_KEYS = bilby.gw.prior.BBHPriorDict(aligned_spin=True).keys()\n",
        "print(POSSIBLE_KEYS)"
      ]
    },
    {
      "cell_type": "code",
      "execution_count": 4,
      "metadata": {
        "id": "Ea7CXS7uIQQE"
      },
      "outputs": [],
      "source": [
        "### LET US SETUP SOME INJECTION PARAMETERS\n",
        "injection_parameters = dict(\n",
        "    mass_1 = 34.615,\n",
        "    mass_2 = 9.545,\n",
        "    mass_ratio = 0.27574750830564784053156146179402, #m2/m1\n",
        "    chirp_mass = 15.220129522101399,\n",
        "    chi_1 = 0.44,\n",
        "    chi_2 = 0.3,\n",
        "    luminosity_distance = 740,\n",
        "    theta_jn = 0.71,\n",
        "    psi = 2.0,\n",
        "    ra = 1.375,\n",
        "    dec = -0.7,\n",
        "    phase = 1.2,\n",
        "    geocent_time = 1239082262.2,\n",
        ")"
      ]
    },
    {
      "cell_type": "code",
      "execution_count": 5,
      "metadata": {
        "id": "s1ErvSveIQQF"
      },
      "outputs": [],
      "source": [
        "waveform_arguments = dict(\n",
        "    waveform_approximant = 'IMRPhenomPv2',\n",
        "    reference_frequency = 50,\n",
        "    minimum_frequency = 20,\n",
        "    sampling_frequency = 1024,\n",
        "    duration = 14,\n",
        "    start_time = injection_parameters['geocent_time'] - 10,\n",
        ")"
      ]
    },
    {
      "cell_type": "code",
      "execution_count": 6,
      "metadata": {
        "id": "kJAIponDIQQF",
        "outputId": "08f97e37-8eba-4be9-e392-96f01ce9d307",
        "colab": {
          "base_uri": "https://localhost:8080/"
        }
      },
      "outputs": [
        {
          "output_type": "stream",
          "name": "stderr",
          "text": [
            "10:46 bilby INFO    : Waveform generator initiated with\n",
            "  frequency_domain_source_model: bilby.gw.source.lal_binary_black_hole\n",
            "  time_domain_source_model: None\n",
            "  parameter_conversion: bilby.gw.conversion.convert_to_lal_binary_black_hole_parameters\n"
          ]
        }
      ],
      "source": [
        "waveform_generator = bilby.gw.WaveformGenerator(\n",
        "    duration = waveform_arguments['duration'],\n",
        "    sampling_frequency = waveform_arguments['sampling_frequency'],\n",
        "    frequency_domain_source_model = bilby.gw.source.lal_binary_black_hole,\n",
        "    parameter_conversion = bilby.gw.conversion.convert_to_lal_binary_black_hole_parameters,\n",
        "    waveform_arguments = waveform_arguments,\n",
        ")"
      ]
    },
    {
      "cell_type": "code",
      "execution_count": 7,
      "metadata": {
        "id": "Zsoy2L-eIQQF",
        "outputId": "5d85b7b2-8048-48a0-cacf-429a9fd37c40",
        "colab": {
          "base_uri": "https://localhost:8080/",
          "height": 1000
        }
      },
      "outputs": [
        {
          "output_type": "stream",
          "name": "stderr",
          "text": [
            "/usr/local/lib/python3.11/dist-packages/lalsimulation/lalsimulation.py:8: UserWarning: Wswiglal-redir-stdio:\n",
            "\n",
            "SWIGLAL standard output/error redirection is enabled in IPython.\n",
            "This may lead to performance penalties. To disable locally, use:\n",
            "\n",
            "with lal.no_swig_redirect_standard_output_error():\n",
            "    ...\n",
            "\n",
            "To disable globally, use:\n",
            "\n",
            "lal.swig_redirect_standard_output_error(False)\n",
            "\n",
            "Note however that this will likely lead to error messages from\n",
            "LAL functions being either misdirected or lost when called from\n",
            "Jupyter notebooks.\n",
            "\n",
            "To suppress this warning, use:\n",
            "\n",
            "import warnings\n",
            "warnings.filterwarnings(\"ignore\", \"Wswiglal-redir-stdio\")\n",
            "import lal\n",
            "\n",
            "  import lal\n",
            "10:46 bilby WARNING : There are unused waveform kwargs. This is deprecated behavior and will\n",
            "result in an error in future releases. Make sure all of the waveform kwargs are correctly\n",
            "spelled.\n",
            "\n",
            "Unused waveform_kwargs: {'sampling_frequency': 1024, 'duration': 14, 'start_time': 1239082252.2}\n",
            "\n"
          ]
        },
        {
          "output_type": "execute_result",
          "data": {
            "text/plain": [
              "[<matplotlib.lines.Line2D at 0x7c7ea6652590>]"
            ]
          },
          "metadata": {},
          "execution_count": 7
        },
        {
          "output_type": "display_data",
          "data": {
            "text/plain": [
              "<Figure size 640x480 with 1 Axes>"
            ],
            "image/png": "[encoded data removed]"
          },
          "metadata": {}
        }
      ],
      "source": [
        "import matplotlib.pyplot as plt\n",
        "plt.plot(waveform_generator.time_domain_strain(injection_parameters)['plus'])"
      ]
    },
    {
      "cell_type": "code",
      "execution_count": 8,
      "metadata": {
        "id": "bUiEp71qIQQF"
      },
      "outputs": [],
      "source": [
        "ifos = bilby.gw.detector.InterferometerList(['H1', 'L1', 'V1'])\n",
        "ifos_00 = bilby.gw.detector.InterferometerList(['H1', 'L1', 'V1'])\n",
        "\n",
        "ifos.set_strain_data_from_power_spectral_densities(sampling_frequency=waveform_arguments['sampling_frequency'],\n",
        "                                                   duration=waveform_arguments['duration'],\n",
        "                                                   start_time=waveform_arguments['start_time'])\n",
        "\n",
        "ifos_00.set_strain_data_from_zero_noise(sampling_frequency=waveform_arguments['sampling_frequency'],\n",
        "                                        duration=waveform_arguments['duration'],\n",
        "                                        start_time=waveform_arguments['start_time'])"
      ]
    },
    {
      "cell_type": "code",
      "execution_count": 9,
      "metadata": {
        "id": "0poPn3KLIQQF",
        "outputId": "55292f84-c619-4f20-89ea-bdc0351972a2",
        "colab": {
          "base_uri": "https://localhost:8080/",
          "height": 481
        }
      },
      "outputs": [
        {
          "output_type": "execute_result",
          "data": {
            "text/plain": [
              "<matplotlib.legend.Legend at 0x7c7ea66b9190>"
            ]
          },
          "metadata": {},
          "execution_count": 9
        },
        {
          "output_type": "display_data",
          "data": {
            "text/plain": [
              "<Figure size 640x480 with 1 Axes>"
            ],
            "image/png": "[encoded data removed]"
          },
          "metadata": {}
        }
      ],
      "source": [
        "plt.plot(ifos_00[1].time_array, ifos_00[1].time_domain_strain, label='L1 zero noise')\n",
        "plt.plot(ifos[1].time_array, ifos[1].time_domain_strain, label='L1 noisy', alpha=0.5)\n",
        "plt.legend()"
      ]
    },
    {
      "cell_type": "code",
      "execution_count": 10,
      "metadata": {
        "id": "EBSJkJd0IQQF",
        "colab": {
          "base_uri": "https://localhost:8080/"
        },
        "outputId": "aa71b5b2-cd19-48d5-e175-31e295b04d18"
      },
      "outputs": [
        {
          "output_type": "stream",
          "name": "stderr",
          "text": [
            "10:46 bilby WARNING : There are unused waveform kwargs. This is deprecated behavior and will\n",
            "result in an error in future releases. Make sure all of the waveform kwargs are correctly\n",
            "spelled.\n",
            "\n",
            "Unused waveform_kwargs: {'sampling_frequency': 1024, 'duration': 14, 'start_time': 1239082252.2}\n",
            "\n",
            "10:46 bilby INFO    : Injected signal in H1:\n",
            "10:46 bilby INFO    :   optimal SNR = 14.52\n",
            "10:46 bilby INFO    :   matched filter SNR = 12.48-1.28j\n",
            "10:46 bilby INFO    :   mass_1 = 34.615\n",
            "10:46 bilby INFO    :   mass_2 = 9.545\n",
            "10:46 bilby INFO    :   mass_ratio = 0.2757475083056478\n",
            "10:46 bilby INFO    :   chirp_mass = 15.220129522101399\n",
            "10:46 bilby INFO    :   chi_1 = 0.44\n",
            "10:46 bilby INFO    :   chi_2 = 0.3\n",
            "10:46 bilby INFO    :   luminosity_distance = 740\n",
            "10:46 bilby INFO    :   theta_jn = 0.71\n",
            "10:46 bilby INFO    :   psi = 2.0\n",
            "10:46 bilby INFO    :   ra = 1.375\n",
            "10:46 bilby INFO    :   dec = -0.7\n",
            "10:46 bilby INFO    :   phase = 1.2\n",
            "10:46 bilby INFO    :   geocent_time = 1239082262.2\n",
            "10:46 bilby INFO    : Injected signal in L1:\n",
            "10:46 bilby INFO    :   optimal SNR = 16.12\n",
            "10:46 bilby INFO    :   matched filter SNR = 16.37-1.01j\n",
            "10:46 bilby INFO    :   mass_1 = 34.615\n",
            "10:46 bilby INFO    :   mass_2 = 9.545\n",
            "10:46 bilby INFO    :   mass_ratio = 0.2757475083056478\n",
            "10:46 bilby INFO    :   chirp_mass = 15.220129522101399\n",
            "10:46 bilby INFO    :   chi_1 = 0.44\n",
            "10:46 bilby INFO    :   chi_2 = 0.3\n",
            "10:46 bilby INFO    :   luminosity_distance = 740\n",
            "10:46 bilby INFO    :   theta_jn = 0.71\n",
            "10:46 bilby INFO    :   psi = 2.0\n",
            "10:46 bilby INFO    :   ra = 1.375\n",
            "10:46 bilby INFO    :   dec = -0.7\n",
            "10:46 bilby INFO    :   phase = 1.2\n",
            "10:46 bilby INFO    :   geocent_time = 1239082262.2\n",
            "10:46 bilby INFO    : Injected signal in V1:\n",
            "10:46 bilby INFO    :   optimal SNR = 17.31\n",
            "10:46 bilby INFO    :   matched filter SNR = 15.94-0.69j\n",
            "10:46 bilby INFO    :   mass_1 = 34.615\n",
            "10:46 bilby INFO    :   mass_2 = 9.545\n",
            "10:46 bilby INFO    :   mass_ratio = 0.2757475083056478\n",
            "10:46 bilby INFO    :   chirp_mass = 15.220129522101399\n",
            "10:46 bilby INFO    :   chi_1 = 0.44\n",
            "10:46 bilby INFO    :   chi_2 = 0.3\n",
            "10:46 bilby INFO    :   luminosity_distance = 740\n",
            "10:46 bilby INFO    :   theta_jn = 0.71\n",
            "10:46 bilby INFO    :   psi = 2.0\n",
            "10:46 bilby INFO    :   ra = 1.375\n",
            "10:46 bilby INFO    :   dec = -0.7\n",
            "10:46 bilby INFO    :   phase = 1.2\n",
            "10:46 bilby INFO    :   geocent_time = 1239082262.2\n",
            "10:46 bilby INFO    : Injected signal in H1:\n",
            "10:46 bilby INFO    :   optimal SNR = 14.52\n",
            "10:46 bilby INFO    :   matched filter SNR = 14.52-0.00j\n",
            "10:46 bilby INFO    :   mass_1 = 34.615\n",
            "10:46 bilby INFO    :   mass_2 = 9.545\n",
            "10:46 bilby INFO    :   mass_ratio = 0.2757475083056478\n",
            "10:46 bilby INFO    :   chirp_mass = 15.220129522101399\n",
            "10:46 bilby INFO    :   chi_1 = 0.44\n",
            "10:46 bilby INFO    :   chi_2 = 0.3\n",
            "10:46 bilby INFO    :   luminosity_distance = 740\n",
            "10:46 bilby INFO    :   theta_jn = 0.71\n",
            "10:46 bilby INFO    :   psi = 2.0\n",
            "10:46 bilby INFO    :   ra = 1.375\n",
            "10:46 bilby INFO    :   dec = -0.7\n",
            "10:46 bilby INFO    :   phase = 1.2\n",
            "10:46 bilby INFO    :   geocent_time = 1239082262.2\n",
            "10:46 bilby INFO    : Injected signal in L1:\n",
            "10:46 bilby INFO    :   optimal SNR = 16.12\n",
            "10:46 bilby INFO    :   matched filter SNR = 16.12-0.00j\n",
            "10:46 bilby INFO    :   mass_1 = 34.615\n",
            "10:46 bilby INFO    :   mass_2 = 9.545\n",
            "10:46 bilby INFO    :   mass_ratio = 0.2757475083056478\n",
            "10:46 bilby INFO    :   chirp_mass = 15.220129522101399\n",
            "10:46 bilby INFO    :   chi_1 = 0.44\n",
            "10:46 bilby INFO    :   chi_2 = 0.3\n",
            "10:46 bilby INFO    :   luminosity_distance = 740\n",
            "10:46 bilby INFO    :   theta_jn = 0.71\n",
            "10:46 bilby INFO    :   psi = 2.0\n",
            "10:46 bilby INFO    :   ra = 1.375\n",
            "10:46 bilby INFO    :   dec = -0.7\n",
            "10:46 bilby INFO    :   phase = 1.2\n",
            "10:46 bilby INFO    :   geocent_time = 1239082262.2\n",
            "10:46 bilby INFO    : Injected signal in V1:\n",
            "10:46 bilby INFO    :   optimal SNR = 17.31\n",
            "10:46 bilby INFO    :   matched filter SNR = 17.31+0.00j\n",
            "10:46 bilby INFO    :   mass_1 = 34.615\n",
            "10:46 bilby INFO    :   mass_2 = 9.545\n",
            "10:46 bilby INFO    :   mass_ratio = 0.2757475083056478\n",
            "10:46 bilby INFO    :   chirp_mass = 15.220129522101399\n",
            "10:46 bilby INFO    :   chi_1 = 0.44\n",
            "10:46 bilby INFO    :   chi_2 = 0.3\n",
            "10:46 bilby INFO    :   luminosity_distance = 740\n",
            "10:46 bilby INFO    :   theta_jn = 0.71\n",
            "10:46 bilby INFO    :   psi = 2.0\n",
            "10:46 bilby INFO    :   ra = 1.375\n",
            "10:46 bilby INFO    :   dec = -0.7\n",
            "10:46 bilby INFO    :   phase = 1.2\n",
            "10:46 bilby INFO    :   geocent_time = 1239082262.2\n"
          ]
        },
        {
          "output_type": "execute_result",
          "data": {
            "text/plain": [
              "[{'plus': array([ 0.00000000e+00-0.00000000e+00j,  0.00000000e+00-0.00000000e+00j,\n",
              "          0.00000000e+00-0.00000000e+00j, ...,\n",
              "         -5.02326680e-26+1.96509451e-26j, -5.01534359e-26+1.95819160e-26j,\n",
              "          0.00000000e+00-0.00000000e+00j]),\n",
              "  'cross': array([0.00000000e+00+0.00000000e+00j, 0.00000000e+00+0.00000000e+00j,\n",
              "         0.00000000e+00+0.00000000e+00j, ...,\n",
              "         1.89224902e-26+4.83705572e-26j, 1.88560199e-26+4.82942622e-26j,\n",
              "         0.00000000e+00+0.00000000e+00j])},\n",
              " {'plus': array([ 0.00000000e+00-0.00000000e+00j,  0.00000000e+00-0.00000000e+00j,\n",
              "          0.00000000e+00-0.00000000e+00j, ...,\n",
              "         -5.02326680e-26+1.96509451e-26j, -5.01534359e-26+1.95819160e-26j,\n",
              "          0.00000000e+00-0.00000000e+00j]),\n",
              "  'cross': array([0.00000000e+00+0.00000000e+00j, 0.00000000e+00+0.00000000e+00j,\n",
              "         0.00000000e+00+0.00000000e+00j, ...,\n",
              "         1.89224902e-26+4.83705572e-26j, 1.88560199e-26+4.82942622e-26j,\n",
              "         0.00000000e+00+0.00000000e+00j])},\n",
              " {'plus': array([ 0.00000000e+00-0.00000000e+00j,  0.00000000e+00-0.00000000e+00j,\n",
              "          0.00000000e+00-0.00000000e+00j, ...,\n",
              "         -5.02326680e-26+1.96509451e-26j, -5.01534359e-26+1.95819160e-26j,\n",
              "          0.00000000e+00-0.00000000e+00j]),\n",
              "  'cross': array([0.00000000e+00+0.00000000e+00j, 0.00000000e+00+0.00000000e+00j,\n",
              "         0.00000000e+00+0.00000000e+00j, ...,\n",
              "         1.89224902e-26+4.83705572e-26j, 1.88560199e-26+4.82942622e-26j,\n",
              "         0.00000000e+00+0.00000000e+00j])}]"
            ]
          },
          "metadata": {},
          "execution_count": 10
        }
      ],
      "source": [
        "ifos.inject_signal(\n",
        "    parameters=injection_parameters,\n",
        "    waveform_generator=waveform_generator,\n",
        ")\n",
        "\n",
        "ifos_00.inject_signal(\n",
        "    parameters=injection_parameters,\n",
        "    waveform_generator=waveform_generator,\n",
        ")"
      ]
    },
    {
      "cell_type": "code",
      "execution_count": 11,
      "metadata": {
        "id": "VelqFHLcIQQG",
        "outputId": "5bf68f7b-388f-48f1-e632-c20bfbe0223d",
        "colab": {
          "base_uri": "https://localhost:8080/",
          "height": 481
        }
      },
      "outputs": [
        {
          "output_type": "execute_result",
          "data": {
            "text/plain": [
              "<matplotlib.legend.Legend at 0x7c7eab0b1190>"
            ]
          },
          "metadata": {},
          "execution_count": 11
        },
        {
          "output_type": "display_data",
          "data": {
            "text/plain": [
              "<Figure size 640x480 with 1 Axes>"
            ],
            "image/png": "[encoded data removed]"
          },
          "metadata": {}
        }
      ],
      "source": [
        "plt.plot(ifos_00[1].time_array, ifos_00[1].time_domain_strain, label='L1 zero noise')\n",
        "plt.plot(ifos[1].time_array, ifos[1].time_domain_strain, label='L1 noisy', alpha=0.5)\n",
        "plt.legend()"
      ]
    },
    {
      "cell_type": "markdown",
      "metadata": {
        "id": "k4MAd09PIQQG"
      },
      "source": [
        "$p(\\theta|d) = \\dfrac{\\mathcal{L}(d|\\theta) p(\\theta)}{\\mathcal{Z(d)}}$"
      ]
    },
    {
      "cell_type": "code",
      "execution_count": 12,
      "metadata": {
        "id": "0WJ4yRBoIQQH",
        "outputId": "04646ceb-cccd-48b6-f29d-07faaa3bdc79",
        "colab": {
          "base_uri": "https://localhost:8080/"
        }
      },
      "outputs": [
        {
          "output_type": "stream",
          "name": "stderr",
          "text": [
            "10:46 bilby INFO    : Using aligned spin prior\n",
            "10:46 bilby INFO    : No prior given, using default BBH priors in /usr/local/lib/python3.11/dist-packages/bilby/gw/prior_files/aligned_spins_bbh.prior.\n"
          ]
        },
        {
          "output_type": "execute_result",
          "data": {
            "text/plain": [
              "{'mass_1': Uniform(minimum=5, maximum=50, name='mass_1', latex_label='$m_1$', unit=None, boundary=None),\n",
              " 'mass_2': Uniform(minimum=5, maximum=50, name='mass_2', latex_label='$m_2$', unit=None, boundary=None),\n",
              " 'luminosity_distance': bilby.gw.prior.UniformSourceFrame(minimum=100.0, maximum=5000.0, cosmology='Planck15', name='luminosity_distance', latex_label='$d_L$', unit='Mpc', boundary=None),\n",
              " 'dec': Cosine(minimum=-1.5707963267948966, maximum=1.5707963267948966, name='dec', latex_label='$\\\\mathrm{DEC}$', unit=None, boundary=None),\n",
              " 'ra': Uniform(minimum=0, maximum=6.283185307179586, name='ra', latex_label='$\\\\mathrm{RA}$', unit=None, boundary='periodic'),\n",
              " 'theta_jn': Sine(minimum=0, maximum=3.141592653589793, name='theta_jn', latex_label='$\\\\theta_{JN}$', unit=None, boundary=None),\n",
              " 'psi': Uniform(minimum=0, maximum=3.141592653589793, name='psi', latex_label='$\\\\psi$', unit=None, boundary='periodic'),\n",
              " 'phase': Uniform(minimum=0, maximum=6.283185307179586, name='phase', latex_label='$\\\\phi$', unit=None, boundary='periodic'),\n",
              " 'chi_1': bilby.gw.prior.AlignedSpin(a_prior=Uniform(minimum=0, maximum=0.99, name=None, latex_label=None, unit=None, boundary=None), z_prior=Uniform(minimum=-1, maximum=1, name=None, latex_label=None, unit=None, boundary=None), name='chi_1', latex_label='$\\\\chi_1$', unit=None, boundary=None, minimum=-0.99, maximum=0.99),\n",
              " 'chi_2': bilby.gw.prior.AlignedSpin(a_prior=Uniform(minimum=0, maximum=0.99, name=None, latex_label=None, unit=None, boundary=None), z_prior=Uniform(minimum=-1, maximum=1, name=None, latex_label=None, unit=None, boundary=None), name='chi_2', latex_label='$\\\\chi_2$', unit=None, boundary=None, minimum=-0.99, maximum=0.99)}"
            ]
          },
          "metadata": {},
          "execution_count": 12
        }
      ],
      "source": [
        "priors = bilby.gw.prior.BBHPriorDict(aligned_spin=True)\n",
        "priors['mass_1'] = bilby.core.prior.Uniform(name='mass_1', minimum=5, maximum=50, unit=None)\n",
        "priors['mass_2'] = bilby.core.prior.Uniform(name='mass_2', minimum=5, maximum=50, unit=None)\n",
        "pop_keys = [\"mass_ratio\", \"chirp_mass\"]\n",
        "for key in pop_keys:\n",
        "    priors.pop(key)\n",
        "priors"
      ]
    },
    {
      "cell_type": "code",
      "execution_count": 13,
      "metadata": {
        "id": "0bMWHf6XIQQH"
      },
      "outputs": [],
      "source": [
        "keys_of_interest = ['mass_1', 'mass_2']\n",
        "for key in priors.keys():\n",
        "    if key not in keys_of_interest:\n",
        "        priors[key] = injection_parameters[key]\n",
        "\n",
        "priors['geocent_time'] = injection_parameters['geocent_time']\n"
      ]
    },
    {
      "cell_type": "code",
      "execution_count": 14,
      "metadata": {
        "id": "dZp9ISiNIQQH"
      },
      "outputs": [],
      "source": [
        "likelihood = bilby.gw.GravitationalWaveTransient(\n",
        "    interferometers=ifos,\n",
        "    waveform_generator=waveform_generator,\n",
        "    priors=priors,\n",
        ")"
      ]
    },
    {
      "cell_type": "code",
      "source": [
        "bilby.core.utils.logger.setLevel(\"ERROR\")"
      ],
      "metadata": {
        "id": "bKgDO36FXywa"
      },
      "execution_count": 15,
      "outputs": []
    },
    {
      "cell_type": "code",
      "source": [],
      "metadata": {
        "id": "Orjwz8VHX56n"
      },
      "execution_count": null,
      "outputs": []
    },
    {
      "cell_type": "code",
      "execution_count": 1,
      "metadata": {
        "id": "L028mQGbIQQH",
        "outputId": "dac9480a-774c-4190-d843-66a6ad7d0df1",
        "colab": {
          "base_uri": "https://localhost:8080/",
          "height": 216
        }
      },
      "outputs": [
        {
          "output_type": "error",
          "ename": "NameError",
          "evalue": "name 'bilby' is not defined",
          "traceback": [
            "\u001b[0;31m---------------------------------------------------------------------------\u001b[0m",
            "\u001b[0;31mNameError\u001b[0m                                 Traceback (most recent call last)",
            "\u001b[0;32m<ipython-input-1-8c13a4907ab5>\u001b[0m in \u001b[0;36m<cell line: 0>\u001b[0;34m()\u001b[0m\n\u001b[0;32m----> 1\u001b[0;31m result = bilby.core.sampler.run_sampler(\n\u001b[0m\u001b[1;32m      2\u001b[0m     \u001b[0mlikelihood\u001b[0m\u001b[0;34m=\u001b[0m\u001b[0mlikelihood\u001b[0m\u001b[0;34m,\u001b[0m\u001b[0;34m\u001b[0m\u001b[0;34m\u001b[0m\u001b[0m\n\u001b[1;32m      3\u001b[0m     \u001b[0mpriors\u001b[0m\u001b[0;34m=\u001b[0m\u001b[0mpriors\u001b[0m\u001b[0;34m,\u001b[0m\u001b[0;34m\u001b[0m\u001b[0;34m\u001b[0m\u001b[0m\n\u001b[1;32m      4\u001b[0m     \u001b[0msampler\u001b[0m\u001b[0;34m=\u001b[0m\u001b[0;34m'dynesty'\u001b[0m\u001b[0;34m,\u001b[0m\u001b[0;34m\u001b[0m\u001b[0;34m\u001b[0m\u001b[0m\n\u001b[1;32m      5\u001b[0m     \u001b[0moutdir\u001b[0m\u001b[0;34m=\u001b[0m\u001b[0;34m'./outdir'\u001b[0m\u001b[0;34m,\u001b[0m\u001b[0;34m\u001b[0m\u001b[0;34m\u001b[0m\u001b[0m\n",
            "\u001b[0;31mNameError\u001b[0m: name 'bilby' is not defined"
          ]
        }
      ],
      "source": [
        "result = bilby.core.sampler.run_sampler(\n",
        "    likelihood=likelihood,\n",
        "    priors=priors,\n",
        "    sampler='dynesty',\n",
        "    outdir='./outdir',\n",
        "    label='legends',\n",
        "    nlive=500,\n",
        "    resume = False,\n",
        ")"
      ]
    },
    {
      "cell_type": "code",
      "execution_count": null,
      "metadata": {
        "id": "szcbUgpvIQQI"
      },
      "outputs": [],
      "source": [
        "truths = {key:injection_parameters[key] for key in keys_of_interest}\n",
        "result.plot_corner(truths=truths)"
      ]
    },
    {
      "cell_type": "code",
      "source": [
        "pop_keys = [\"mass_1\", \"mass_2\"]\n",
        "for key in pop_keys:\n",
        "    priors.pop(key)"
      ],
      "metadata": {
        "id": "MYZ1OqJJW-lW"
      },
      "execution_count": null,
      "outputs": []
    },
    {
      "cell_type": "code",
      "execution_count": null,
      "metadata": {
        "id": "Ku7hZ82gIQQI"
      },
      "outputs": [],
      "source": [
        "bilby.core.utils.logger.setLevel(\"WARNING\")"
      ]
    }
  ],
  "metadata": {
    "kernelspec": {
      "display_name": "tmnre_lvc",
      "language": "python",
      "name": "python3"
    },
    "language_info": {
      "codemirror_mode": {
        "name": "ipython",
        "version": 3
      },
      "file_extension": ".py",
      "mimetype": "text/x-python",
      "name": "python",
      "nbconvert_exporter": "python",
      "pygments_lexer": "ipython3",
      "version": "3.10.4"
    },
    "colab": {
      "provenance": [],
      "history_visible": true
    }
  },
  "nbformat": 4,
  "nbformat_minor": 0
}