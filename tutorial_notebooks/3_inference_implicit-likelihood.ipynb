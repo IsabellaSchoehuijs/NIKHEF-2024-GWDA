{
 "cells": [
  {
   "cell_type": "code",
   "execution_count": 1,
   "metadata": {},
   "outputs": [],
   "source": [
    "NEED_TO_INSTALL_PACKAGES = False\n",
    "if NEED_TO_INSTALL_PACKAGES:\n",
    "    !pip install tensorboard psutil gwpy lalsuite bilby>=2.1.2\n",
    "    !pip install swyft\n",
    "    !pip install torch"
   ]
  },
  {
   "cell_type": "markdown",
   "metadata": {},
   "source": [
    "## SIMULATION-BASED EXAMPLE"
   ]
  },
  {
   "cell_type": "code",
   "execution_count": 8,
   "metadata": {},
   "outputs": [],
   "source": [
    "import swyft.lightning as sl\n",
    "import torch\n",
    "import numpy as np\n",
    "import matplotlib.pyplot as plt\n",
    "import bilby"
   ]
  },
  {
   "cell_type": "code",
   "execution_count": 9,
   "metadata": {},
   "outputs": [],
   "source": [
    "time_duration = 10\n",
    "sampling_frequency = 10\n",
    "time = np.arange(0, time_duration, 1 / sampling_frequency)\n",
    "N = len(time)\n",
    "sigma = np.random.normal(1, 0.01, N)\n",
    "\n",
    "model_parameters = dict(\n",
    "        sampling_frequency = sampling_frequency,\n",
    "        time_duration = time_duration,\n",
    "        time = time,\n",
    "        N = N,\n",
    "        sigma = sigma,)\n",
    "\n",
    "priors = dict()\n",
    "priors[\"m\"] = bilby.core.prior.Uniform(0, 10, \"m\")\n",
    "priors[\"c\"] = bilby.core.prior.Uniform(-5, 5, \"c\")"
   ]
  },
  {
   "cell_type": "code",
   "execution_count": 10,
   "metadata": {},
   "outputs": [],
   "source": [
    "class Simulator(sl.Simulator):\n",
    "    def __init__(self, model_parameters):\n",
    "        super().__init__()\n",
    "        self.model_parameters = model_parameters\n",
    "        self.priors = priors\n",
    "\n",
    "    def sample_priors(self):\n",
    "        params = np.array([self.priors[p].sample() for p in self.priors])\n",
    "        return params\n",
    "    \n",
    "    def model(self,params):\n",
    "        param_dict = dict(zip(self.priors.keys(), params))\n",
    "        signal = self.model_parameters['time'] * param_dict['m'] + param_dict['c']\n",
    "        return signal\n",
    "\n",
    "    def noise(self):\n",
    "        noise = np.random.normal(0, self.model_parameters['sigma'], self.model_parameters['N'])\n",
    "        return noise\n",
    "    \n",
    "    def build(self,graph):\n",
    "        params = graph.node('params', self.sample_priors)\n",
    "        signal = graph.node('signal', self.model, params)\n",
    "        noise = graph.node('noise', self.noise)"
   ]
  },
  {
   "cell_type": "code",
   "execution_count": 11,
   "metadata": {},
   "outputs": [],
   "source": [
    "sim = Simulator(model_parameters)"
   ]
  },
  {
   "cell_type": "code",
   "execution_count": 12,
   "metadata": {},
   "outputs": [
    {
     "data": {
      "text/plain": [
       "<swyft.lightning.data.ZarrStore at 0x14cece6cf070>"
      ]
     },
     "execution_count": 12,
     "metadata": {},
     "output_type": "execute_result"
    }
   ],
   "source": [
    "shapes, dtypes = sim.get_shapes_and_dtypes()\n",
    "store = sl.ZarrStore(\"store_regression\")\n",
    "store.init(\n",
    "    N = 5_000,\n",
    "    chunk_size=1000,\n",
    "    shapes=shapes,\n",
    "    dtypes=dtypes,\n",
    ")"
   ]
  },
  {
   "cell_type": "code",
   "execution_count": 13,
   "metadata": {},
   "outputs": [
    {
     "data": {
      "text/plain": [
       "5000"
      ]
     },
     "execution_count": 13,
     "metadata": {},
     "output_type": "execute_result"
    }
   ],
   "source": [
    "store.sims_required"
   ]
  },
  {
   "cell_type": "code",
   "execution_count": 15,
   "metadata": {},
   "outputs": [
    {
     "name": "stderr",
     "output_type": "stream",
     "text": [
      "  0%|          | 0/1000 [00:00<?, ?it/s]"
     ]
    },
    {
     "name": "stderr",
     "output_type": "stream",
     "text": [
      "100%|██████████| 1000/1000 [00:00<00:00, 7565.81it/s]\n",
      "100%|██████████| 1000/1000 [00:00<00:00, 4896.75it/s]\n",
      "100%|██████████| 1000/1000 [00:00<00:00, 7932.74it/s]\n",
      "100%|██████████| 1000/1000 [00:00<00:00, 4659.16it/s]\n",
      "100%|██████████| 1000/1000 [00:00<00:00, 3449.94it/s]\n"
     ]
    }
   ],
   "source": [
    "store.simulate(sim, batch_size=1000)"
   ]
  },
  {
   "cell_type": "code",
   "execution_count": 28,
   "metadata": {},
   "outputs": [
    {
     "name": "stdout",
     "output_type": "stream",
     "text": [
      "['noise', 'params', 'signal']\n",
      "(5000, 100)\n",
      "(5000, 2)\n"
     ]
    }
   ],
   "source": [
    "print(store.keys())\n",
    "print(store['signal'].shape)\n",
    "print(store['params'].shape)"
   ]
  },
  {
   "cell_type": "code",
   "execution_count": 44,
   "metadata": {},
   "outputs": [],
   "source": [
    "class Network(sl.SwyftModule):\n",
    "    def __init__(self):\n",
    "        super().__init__()\n",
    "        self.embedding_network = torch.nn.LazyLinear(32)\n",
    "        self.activation = torch.nn.ReLU()\n",
    "        self.logratios_1d = sl.LogRatioEstimator_1dim(num_features=32, num_params=2, varnames='params', hidden_features=16)\n",
    "        self.logratios_2d = sl.LogRatioEstimator_Ndim(num_features=32, marginals=((0, 1),), varnames='params', hidden_features=16)\n",
    "\n",
    "    def forward(self, A, B):\n",
    "        noise_shuffling = torch.randperm(64)\n",
    "        data = A['signal'] + A['noise'][noise_shuffling]\n",
    "        params = B['params']\n",
    "        data = self.embedding_network(data)\n",
    "        data = self.activation(data)\n",
    "        logratios_1d = self.logratios_1d(data, params)\n",
    "        logratios_2d = self.logratios_2d(data, params)\n",
    "        return logratios_1d, logratios_2d"
   ]
  },
  {
   "cell_type": "code",
   "execution_count": 45,
   "metadata": {},
   "outputs": [],
   "source": [
    "network = Network()"
   ]
  },
  {
   "cell_type": "code",
   "execution_count": 46,
   "metadata": {},
   "outputs": [],
   "source": [
    "train_data = store.get_dataloader(\n",
    "    num_workers=2,\n",
    "    batch_size=64,\n",
    "    idx_range=[0, 4500],\n",
    ")\n",
    "\n",
    "val_data = store.get_dataloader(\n",
    "    num_workers=2,\n",
    "    batch_size=64,\n",
    "    idx_range=[4500, 5000],\n",
    ")"
   ]
  },
  {
   "cell_type": "code",
   "execution_count": 50,
   "metadata": {},
   "outputs": [
    {
     "name": "stderr",
     "output_type": "stream",
     "text": [
      "GPU available: False, used: False\n",
      "TPU available: False, using: 0 TPU cores\n",
      "IPU available: False, using: 0 IPUs\n",
      "HPU available: False, using: 0 HPUs\n",
      "TPU available: False, using: 0 TPU cores\n",
      "IPU available: False, using: 0 IPUs\n",
      "HPU available: False, using: 0 HPUs\n"
     ]
    }
   ],
   "source": [
    "trainer = sl.SwyftTrainer(accelerator = 'cpu', precision=32, min_epochs=5, max_epochs=50)"
   ]
  },
  {
   "cell_type": "code",
   "execution_count": 51,
   "metadata": {},
   "outputs": [
    {
     "name": "stderr",
     "output_type": "stream",
     "text": [
      "Missing logger folder: /gpfs/home2/bhardwaj/projects/NIKHEF-2024-GWDA/tutorial_notebooks/lightning_logs\n",
      "\n",
      "  | Name              | Type                   | Params\n",
      "-------------------------------------------------------------\n",
      "0 | embedding_network | Linear                 | 3.2 K \n",
      "1 | activation        | ReLU                   | 0     \n",
      "2 | logratios_1d      | LogRatioEstimator_1dim | 3.6 K \n",
      "3 | logratios_2d      | LogRatioEstimator_Ndim | 1.8 K \n",
      "-------------------------------------------------------------\n",
      "8.6 K     Trainable params\n",
      "0         Non-trainable params\n",
      "8.6 K     Total params\n",
      "0.034     Total estimated model params size (MB)\n"
     ]
    },
    {
     "data": {
      "application/vnd.jupyter.widget-view+json": {
       "model_id": "bab860d0b3ba45d89025d7832f9400ee",
       "version_major": 2,
       "version_minor": 0
      },
      "text/plain": [
       "Sanity Checking: 0it [00:00, ?it/s]"
      ]
     },
     "metadata": {},
     "output_type": "display_data"
    },
    {
     "data": {
      "application/vnd.jupyter.widget-view+json": {
       "model_id": "4f92184517d8406da7b693354b104d19",
       "version_major": 2,
       "version_minor": 0
      },
      "text/plain": [
       "Training: 0it [00:00, ?it/s]"
      ]
     },
     "metadata": {},
     "output_type": "display_data"
    }
   ],
   "source": [
    "### TRAIN THE NETWORK\n",
    "trainer.fit(network, train_data, val_data)"
   ]
  },
  {
   "cell_type": "code",
   "execution_count": null,
   "metadata": {},
   "outputs": [],
   "source": []
  },
  {
   "cell_type": "markdown",
   "metadata": {},
   "source": [
    "## LIKELIHOOD-BASED EXAMPLE"
   ]
  },
  {
   "cell_type": "code",
   "execution_count": null,
   "metadata": {},
   "outputs": [],
   "source": [
    "time = np.arange(0, time_duration, 1 / sampling_frequency)\n",
    "sigma = np.random.normal(1, 0.01, N)\n",
    "\n",
    "model_parameters = dict(\n",
    "        sampling_frequency = 10,\n",
    "        time_duration = 10,\n",
    "        time = time,\n",
    "        N = len(time),\n",
    "        sigma = sigma,)\n",
    "\n",
    "priors = dict()\n",
    "priors[\"m\"] = bilby.core.prior.Uniform(0, 10, \"m\")\n",
    "priors[\"c\"] = bilby.core.prior.Uniform(-5, 5, \"c\")"
   ]
  },
  {
   "cell_type": "code",
   "execution_count": 6,
   "metadata": {},
   "outputs": [],
   "source": [
    "# A few simple setup steps\n",
    "label = \"linear_regression\"\n",
    "outdir = \"outdir_bilby\"\n",
    "bilby.utils.check_directory_exists_and_if_not_mkdir(outdir)"
   ]
  },
  {
   "cell_type": "code",
   "execution_count": 29,
   "metadata": {},
   "outputs": [],
   "source": [
    "# First, we define our \"signal model\", in this case a simple linear function\n",
    "def model(time, m, c):\n",
    "    return time * m + c\n",
    "\n",
    "def noise(sigma, N):\n",
    "    noise = np.random.normal(0, sigma, N)\n",
    "    return noise"
   ]
  },
  {
   "cell_type": "code",
   "execution_count": 28,
   "metadata": {},
   "outputs": [],
   "source": [
    "# Now we define the injection parameters which we make simulated data with\n",
    "injection_parameters = dict(m=0.5, c=0.2)\n",
    "\n",
    "sampling_frequency = 10\n",
    "time_duration = 10\n",
    "time = np.arange(0, time_duration, 1 / sampling_frequency)\n",
    "N = len(time)\n",
    "sigma = np.random.normal(1, 0.01, N)"
   ]
  },
  {
   "cell_type": "code",
   "execution_count": 30,
   "metadata": {},
   "outputs": [],
   "source": [
    "signal = model(model_parameters['time'], **injection_parameters)\n",
    "noise = noise(model_parameters['sigma'], model_parameters['N'])\n",
    "data = signal + noise"
   ]
  },
  {
   "cell_type": "code",
   "execution_count": 31,
   "metadata": {},
   "outputs": [
    {
     "data": {
      "text/plain": [
       "Text(0, 0.5, 'Signal amplitude')"
      ]
     },
     "execution_count": 31,
     "metadata": {},
     "output_type": "execute_result"
    },
    {
     "data": {
      "image/png": "[encoded data removed]",
      "text/plain": [
       "<Figure size 640x480 with 1 Axes>"
      ]
     },
     "metadata": {},
     "output_type": "display_data"
    }
   ],
   "source": [
    "# plt.plot(time, signal)\n",
    "plt.plot(model_parameters['time'], data, alpha=0.5)\n",
    "\n",
    "plt.xlabel(\"Time\")\n",
    "plt.ylabel(\"Signal amplitude\")"
   ]
  },
  {
   "cell_type": "code",
   "execution_count": 32,
   "metadata": {},
   "outputs": [],
   "source": [
    "# From hereon, the syntax is exactly equivalent to other bilby examples\n",
    "# We make a prior\n",
    "priors = dict()\n",
    "priors[\"m\"] = bilby.core.prior.Uniform(0, 10, \"m\")\n",
    "priors[\"c\"] = bilby.core.prior.Uniform(-5, 5, \"c\")"
   ]
  },
  {
   "cell_type": "code",
   "execution_count": 33,
   "metadata": {},
   "outputs": [],
   "source": [
    "# Now lets instantiate a version of our GaussianLikelihood, giving it\n",
    "# the time, data and signal model\n",
    "likelihood = bilby.likelihood.GaussianLikelihood(model_parameters['time'], data, model, sigma)"
   ]
  },
  {
   "cell_type": "code",
   "execution_count": 34,
   "metadata": {},
   "outputs": [
    {
     "name": "stderr",
     "output_type": "stream",
     "text": [
      "22:22 bilby INFO    : Running for label 'linear_regression', output will be saved to 'outdir_bilby'\n",
      "22:22 bilby INFO    : Analysis priors:\n",
      "22:22 bilby INFO    : m=Uniform(minimum=0, maximum=10, name='m', latex_label='m', unit=None, boundary=None)\n",
      "22:22 bilby INFO    : c=Uniform(minimum=-5, maximum=5, name='c', latex_label='c', unit=None, boundary=None)\n",
      "22:22 bilby INFO    : Analysis likelihood class: <class 'bilby.core.likelihood.GaussianLikelihood'>\n",
      "22:22 bilby INFO    : Analysis likelihood noise evidence: nan\n",
      "22:22 bilby INFO    : Single likelihood evaluation took 1.090e-04 s\n",
      "22:22 bilby INFO    : Using sampler Dynesty with kwargs {'nlive': 250, 'bound': 'multi', 'sample': 'rwalk', 'periodic': None, 'reflective': None, 'update_interval': None, 'first_update': None, 'npdim': None, 'rstate': None, 'queue_size': 1, 'pool': None, 'use_pool': None, 'live_points': None, 'logl_args': None, 'logl_kwargs': None, 'ptform_args': None, 'ptform_kwargs': None, 'gradient': None, 'grad_args': None, 'grad_kwargs': None, 'compute_jac': False, 'enlarge': None, 'bootstrap': None, 'walks': 100, 'facc': 0.2, 'slices': None, 'fmove': 0.9, 'max_move': 100, 'update_func': None, 'ncdim': None, 'blob': False, 'save_history': False, 'history_filename': None, 'maxiter': None, 'maxcall': None, 'dlogz': 0.1, 'logl_max': inf, 'n_effective': None, 'add_live': True, 'print_progress': True, 'print_func': <bound method Dynesty._print_func of <bilby.core.sampler.dynesty.Dynesty object at 0x150b7cbf1120>>, 'save_bounds': False, 'checkpoint_file': None, 'checkpoint_every': 60, 'resume': False}\n",
      "22:22 bilby INFO    : Checkpoint every check_point_delta_t = 600s\n",
      "22:22 bilby INFO    : Using dynesty version 2.0.3\n",
      "22:22 bilby INFO    : Using the bilby-implemented rwalk sample method with ACT estimated walks\n",
      "22:22 bilby INFO    : Resume file outdir_bilby/linear_regression_resume.pickle does not exist.\n",
      "22:22 bilby INFO    : Generating initial points from the prior\n"
     ]
    },
    {
     "data": {
      "application/vnd.jupyter.widget-view+json": {
       "model_id": "bbec9a8045cc4564a23e3e6555718d95",
       "version_major": 2,
       "version_minor": 0
      },
      "text/plain": [
       "1it [00:00, ?it/s]"
      ]
     },
     "metadata": {},
     "output_type": "display_data"
    },
    {
     "name": "stderr",
     "output_type": "stream",
     "text": [
      "22:24 bilby INFO    : Written checkpoint file outdir_bilby/linear_regression_resume.pickle\n"
     ]
    },
    {
     "name": "stdout",
     "output_type": "stream",
     "text": [
      "\n"
     ]
    },
    {
     "name": "stderr",
     "output_type": "stream",
     "text": [
      "22:25 bilby INFO    : Sampling time: 0:02:16.092844\n",
      "22:25 bilby INFO    : Summary of results:\n",
      "nsamples: 2935\n",
      "ln_noise_evidence:    nan\n",
      "ln_evidence: -152.979 +/-  0.209\n",
      "ln_bayes_factor:    nan +/-  0.209\n",
      "\n"
     ]
    },
    {
     "data": {
      "image/png": "[encoded data removed]",
      "text/plain": [
       "<Figure size 550x550 with 4 Axes>"
      ]
     },
     "execution_count": 34,
     "metadata": {},
     "output_type": "execute_result"
    }
   ],
   "source": [
    "# And run sampler\n",
    "result = bilby.run_sampler(\n",
    "    likelihood=likelihood,\n",
    "    priors=priors,\n",
    "    sampler=\"dynesty\",\n",
    "    nlive=250,\n",
    "    injection_parameters=injection_parameters,\n",
    "    outdir=outdir,\n",
    "    label=label,\n",
    ")\n",
    "\n",
    "# Finally plot a corner plot: all outputs are stored in outdir\n",
    "result.plot_corner()\n"
   ]
  }
 ],
 "metadata": {
  "kernelspec": {
   "display_name": "tmnre_lvc",
   "language": "python",
   "name": "python3"
  },
  "language_info": {
   "codemirror_mode": {
    "name": "ipython",
    "version": 3
   },
   "file_extension": ".py",
   "mimetype": "text/x-python",
   "name": "python",
   "nbconvert_exporter": "python",
   "pygments_lexer": "ipython3",
   "version": "3.10.4"
  }
 },
 "nbformat": 4,
 "nbformat_minor": 2
}
