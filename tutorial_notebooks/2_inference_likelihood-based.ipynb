{
  "cells": [
    {
      "cell_type": "code",
      "execution_count": 1,
      "metadata": {
        "id": "_W3qAzSgIQQD",
        "outputId": "683fab2c-1bc0-48c9-f53e-d07f4d992494",
        "colab": {
          "base_uri": "https://localhost:8080/"
        }
      },
      "outputs": [
        {
          "output_type": "stream",
          "name": "stdout",
          "text": [
            "Collecting bilby\n",
            "  Downloading bilby-2.4.0-py3-none-any.whl.metadata (4.8 kB)\n",
            "Collecting lalsuite\n",
            "  Downloading lalsuite-7.25-cp311-cp311-manylinux_2_28_x86_64.whl.metadata (3.2 kB)\n",
            "Collecting bilby.cython>=0.3.0 (from bilby)\n",
            "  Downloading bilby.cython-0.5.3-cp311-cp311-manylinux_2_17_x86_64.manylinux2014_x86_64.whl.metadata (4.5 kB)\n",
            "Collecting dynesty>=2.0.1 (from bilby)\n",
            "  Downloading dynesty-2.1.5-py2.py3-none-any.whl.metadata (3.0 kB)\n",
            "Collecting emcee (from bilby)\n",
            "  Downloading emcee-3.1.6-py2.py3-none-any.whl.metadata (3.0 kB)\n",
            "Collecting corner (from bilby)\n",
            "  Downloading corner-2.2.3-py3-none-any.whl.metadata (2.2 kB)\n",
            "Requirement already satisfied: numpy in /usr/local/lib/python3.11/dist-packages (from bilby) (1.26.4)\n",
            "Requirement already satisfied: matplotlib in /usr/local/lib/python3.11/dist-packages (from bilby) (3.10.0)\n",
            "Requirement already satisfied: scipy>=1.5 in /usr/local/lib/python3.11/dist-packages (from bilby) (1.13.1)\n",
            "Requirement already satisfied: pandas in /usr/local/lib/python3.11/dist-packages (from bilby) (2.2.2)\n",
            "Collecting dill (from bilby)\n",
            "  Downloading dill-0.3.9-py3-none-any.whl.metadata (10 kB)\n",
            "Requirement already satisfied: tqdm in /usr/local/lib/python3.11/dist-packages (from bilby) (4.67.1)\n",
            "Requirement already satisfied: h5py in /usr/local/lib/python3.11/dist-packages (from bilby) (3.12.1)\n",
            "Requirement already satisfied: attrs in /usr/local/lib/python3.11/dist-packages (from bilby) (24.3.0)\n",
            "Requirement already satisfied: astropy in /usr/local/lib/python3.11/dist-packages (from lalsuite) (6.1.7)\n",
            "Collecting ligo-segments (from lalsuite)\n",
            "  Downloading ligo-segments-1.4.0.tar.gz (51 kB)\n",
            "\u001b[2K     \u001b[90m━━━━━━━━━━━━━━━━━━━━━━━━━━━━━━━━━━━━━━━━\u001b[0m \u001b[32m51.0/51.0 kB\u001b[0m \u001b[31m2.0 MB/s\u001b[0m eta \u001b[36m0:00:00\u001b[0m\n",
            "\u001b[?25h  Preparing metadata (setup.py) ... \u001b[?25l\u001b[?25hdone\n",
            "Collecting lscsoft-glue (from lalsuite)\n",
            "  Downloading lscsoft_glue-4.0.0-py3-none-any.whl.metadata (1.4 kB)\n",
            "Requirement already satisfied: python-dateutil in /usr/local/lib/python3.11/dist-packages (from lalsuite) (2.8.2)\n",
            "Requirement already satisfied: pyerfa>=2.0.1.1 in /usr/local/lib/python3.11/dist-packages (from astropy->lalsuite) (2.0.1.5)\n",
            "Requirement already satisfied: astropy-iers-data>=0.2024.10.28.0.34.7 in /usr/local/lib/python3.11/dist-packages (from astropy->lalsuite) (0.2025.1.6.0.33.42)\n",
            "Requirement already satisfied: PyYAML>=3.13 in /usr/local/lib/python3.11/dist-packages (from astropy->lalsuite) (6.0.2)\n",
            "Requirement already satisfied: packaging>=19.0 in /usr/local/lib/python3.11/dist-packages (from astropy->lalsuite) (24.2)\n",
            "Requirement already satisfied: contourpy>=1.0.1 in /usr/local/lib/python3.11/dist-packages (from matplotlib->bilby) (1.3.1)\n",
            "Requirement already satisfied: cycler>=0.10 in /usr/local/lib/python3.11/dist-packages (from matplotlib->bilby) (0.12.1)\n",
            "Requirement already satisfied: fonttools>=4.22.0 in /usr/local/lib/python3.11/dist-packages (from matplotlib->bilby) (4.55.3)\n",
            "Requirement already satisfied: kiwisolver>=1.3.1 in /usr/local/lib/python3.11/dist-packages (from matplotlib->bilby) (1.4.8)\n",
            "Requirement already satisfied: pillow>=8 in /usr/local/lib/python3.11/dist-packages (from matplotlib->bilby) (11.1.0)\n",
            "Requirement already satisfied: pyparsing>=2.3.1 in /usr/local/lib/python3.11/dist-packages (from matplotlib->bilby) (3.2.1)\n",
            "Requirement already satisfied: six>=1.5 in /usr/local/lib/python3.11/dist-packages (from python-dateutil->lalsuite) (1.17.0)\n",
            "Requirement already satisfied: pyOpenSSL in /usr/local/lib/python3.11/dist-packages (from lscsoft-glue->lalsuite) (24.2.1)\n",
            "Requirement already satisfied: pytz>=2020.1 in /usr/local/lib/python3.11/dist-packages (from pandas->bilby) (2024.2)\n",
            "Requirement already satisfied: tzdata>=2022.7 in /usr/local/lib/python3.11/dist-packages (from pandas->bilby) (2024.2)\n",
            "Requirement already satisfied: cryptography<44,>=41.0.5 in /usr/local/lib/python3.11/dist-packages (from pyOpenSSL->lscsoft-glue->lalsuite) (43.0.3)\n",
            "Requirement already satisfied: cffi>=1.12 in /usr/local/lib/python3.11/dist-packages (from cryptography<44,>=41.0.5->pyOpenSSL->lscsoft-glue->lalsuite) (1.17.1)\n",
            "Requirement already satisfied: pycparser in /usr/local/lib/python3.11/dist-packages (from cffi>=1.12->cryptography<44,>=41.0.5->pyOpenSSL->lscsoft-glue->lalsuite) (2.22)\n",
            "Downloading bilby-2.4.0-py3-none-any.whl (2.3 MB)\n",
            "\u001b[2K   \u001b[90m━━━━━━━━━━━━━━━━━━━━━━━━━━━━━━━━━━━━━━━━\u001b[0m \u001b[32m2.3/2.3 MB\u001b[0m \u001b[31m26.6 MB/s\u001b[0m eta \u001b[36m0:00:00\u001b[0m\n",
            "\u001b[?25hDownloading lalsuite-7.25-cp311-cp311-manylinux_2_28_x86_64.whl (40.4 MB)\n",
            "\u001b[2K   \u001b[90m━━━━━━━━━━━━━━━━━━━━━━━━━━━━━━━━━━━━━━━━\u001b[0m \u001b[32m40.4/40.4 MB\u001b[0m \u001b[31m18.2 MB/s\u001b[0m eta \u001b[36m0:00:00\u001b[0m\n",
            "\u001b[?25hDownloading bilby.cython-0.5.3-cp311-cp311-manylinux_2_17_x86_64.manylinux2014_x86_64.whl (983 kB)\n",
            "\u001b[2K   \u001b[90m━━━━━━━━━━━━━━━━━━━━━━━━━━━━━━━━━━━━━━━━\u001b[0m \u001b[32m983.9/983.9 kB\u001b[0m \u001b[31m32.4 MB/s\u001b[0m eta \u001b[36m0:00:00\u001b[0m\n",
            "\u001b[?25hDownloading dynesty-2.1.5-py2.py3-none-any.whl (108 kB)\n",
            "\u001b[2K   \u001b[90m━━━━━━━━━━━━━━━━━━━━━━━━━━━━━━━━━━━━━━━━\u001b[0m \u001b[32m108.2/108.2 kB\u001b[0m \u001b[31m6.8 MB/s\u001b[0m eta \u001b[36m0:00:00\u001b[0m\n",
            "\u001b[?25hDownloading corner-2.2.3-py3-none-any.whl (15 kB)\n",
            "Downloading dill-0.3.9-py3-none-any.whl (119 kB)\n",
            "\u001b[2K   \u001b[90m━━━━━━━━━━━━━━━━━━━━━━━━━━━━━━━━━━━━━━━━\u001b[0m \u001b[32m119.4/119.4 kB\u001b[0m \u001b[31m7.4 MB/s\u001b[0m eta \u001b[36m0:00:00\u001b[0m\n",
            "\u001b[?25hDownloading emcee-3.1.6-py2.py3-none-any.whl (47 kB)\n",
            "\u001b[2K   \u001b[90m━━━━━━━━━━━━━━━━━━━━━━━━━━━━━━━━━━━━━━━━\u001b[0m \u001b[32m47.4/47.4 kB\u001b[0m \u001b[31m2.5 MB/s\u001b[0m eta \u001b[36m0:00:00\u001b[0m\n",
            "\u001b[?25hDownloading lscsoft_glue-4.0.0-py3-none-any.whl (46 kB)\n",
            "\u001b[2K   \u001b[90m━━━━━━━━━━━━━━━━━━━━━━━━━━━━━━━━━━━━━━━━\u001b[0m \u001b[32m46.5/46.5 kB\u001b[0m \u001b[31m2.6 MB/s\u001b[0m eta \u001b[36m0:00:00\u001b[0m\n",
            "\u001b[?25hBuilding wheels for collected packages: ligo-segments\n",
            "  Building wheel for ligo-segments (setup.py) ... \u001b[?25l\u001b[?25hdone\n",
            "  Created wheel for ligo-segments: filename=ligo_segments-1.4.0-cp311-cp311-linux_x86_64.whl size=102031 sha256=6dd8df02107269527d4899271f4ae150ab67fffacdf23d3cb120f454a26c5db4\n",
            "  Stored in directory: /root/.cache/pip/wheels/02/2b/93/c2ee2b6f4ea9572ee4f5ade0115c4bd0887be6228328740dae\n",
            "Successfully built ligo-segments\n",
            "Installing collected packages: dynesty, ligo-segments, emcee, dill, bilby.cython, corner, lscsoft-glue, bilby, lalsuite\n",
            "Successfully installed bilby-2.4.0 bilby.cython-0.5.3 corner-2.2.3 dill-0.3.9 dynesty-2.1.5 emcee-3.1.6 lalsuite-7.25 ligo-segments-1.4.0 lscsoft-glue-4.0.0\n"
          ]
        }
      ],
      "source": [
        "NEED_TO_INSTALL_PACKAGES = True\n",
        "if NEED_TO_INSTALL_PACKAGES:\n",
        "    ! pip install bilby  lalsuite #lalsimulation\n",
        "import bilby"
      ]
    },
    {
      "cell_type": "code",
      "execution_count": 2,
      "metadata": {
        "id": "DzOwTTUxIQQE",
        "outputId": "5cef29ed-ee62-46b5-8574-f3272978dd8b",
        "colab": {
          "base_uri": "https://localhost:8080/"
        }
      },
      "outputs": [
        {
          "output_type": "stream",
          "name": "stdout",
          "text": [
            "15.220129522101399\n"
          ]
        }
      ],
      "source": [
        "from bilby.gw import conversion\n",
        "\n",
        "#calculate the chirp mass from the component masses\n",
        "chirp_mass = conversion.component_masses_to_chirp_mass(mass_1=34.615, mass_2=9.545)\n",
        "print(chirp_mass)"
      ]
    },
    {
      "cell_type": "code",
      "execution_count": 3,
      "metadata": {
        "id": "SNd9uk51IQQE",
        "outputId": "45f32569-204d-49bf-b0a5-68038f78b603",
        "colab": {
          "base_uri": "https://localhost:8080/"
        }
      },
      "outputs": [
        {
          "output_type": "stream",
          "name": "stderr",
          "text": [
            "12:55 bilby INFO    : Using aligned spin prior\n",
            "12:55 bilby INFO    : No prior given, using default BBH priors in /usr/local/lib/python3.11/dist-packages/bilby/gw/prior_files/aligned_spins_bbh.prior.\n"
          ]
        },
        {
          "output_type": "stream",
          "name": "stdout",
          "text": [
            "dict_keys(['mass_1', 'mass_2', 'mass_ratio', 'chirp_mass', 'luminosity_distance', 'dec', 'ra', 'theta_jn', 'psi', 'phase', 'chi_1', 'chi_2'])\n"
          ]
        }
      ],
      "source": [
        "POSSIBLE_KEYS = bilby.gw.prior.BBHPriorDict(aligned_spin=True).keys()\n",
        "print(POSSIBLE_KEYS)"
      ]
    },
    {
      "cell_type": "code",
      "execution_count": 4,
      "metadata": {
        "id": "Ea7CXS7uIQQE"
      },
      "outputs": [],
      "source": [
        "### LET US SETUP SOME INJECTION PARAMETERS\n",
        "injection_parameters = dict(\n",
        "    mass_1 = 34.615,\n",
        "    mass_2 = 9.545,\n",
        "    mass_ratio = 0.27574750830564784053156146179402, #m2/m1\n",
        "    chirp_mass = 15.220129522101399,\n",
        "    chi_1 = 0.44,\n",
        "    chi_2 = 0.3,\n",
        "    luminosity_distance = 740,\n",
        "    theta_jn = 0.71,\n",
        "    psi = 2.0,\n",
        "    ra = 1.375,\n",
        "    dec = -0.7,\n",
        "    phase = 1.2,\n",
        "    geocent_time = 1239082262.2,\n",
        ")"
      ]
    },
    {
      "cell_type": "code",
      "execution_count": 5,
      "metadata": {
        "id": "s1ErvSveIQQF"
      },
      "outputs": [],
      "source": [
        "waveform_arguments = dict(\n",
        "    waveform_approximant = 'IMRPhenomPv2',\n",
        "    reference_frequency = 50,\n",
        "    minimum_frequency = 20,\n",
        "    sampling_frequency = 1024,\n",
        "    duration = 14,\n",
        "    start_time = injection_parameters['geocent_time'] - 10,\n",
        ")"
      ]
    },
    {
      "cell_type": "code",
      "execution_count": 6,
      "metadata": {
        "id": "kJAIponDIQQF",
        "outputId": "1b0a7bb3-f874-4294-ba92-e24dfeb78607",
        "colab": {
          "base_uri": "https://localhost:8080/"
        }
      },
      "outputs": [
        {
          "output_type": "stream",
          "name": "stderr",
          "text": [
            "12:55 bilby INFO    : Waveform generator initiated with\n",
            "  frequency_domain_source_model: bilby.gw.source.lal_binary_black_hole\n",
            "  time_domain_source_model: None\n",
            "  parameter_conversion: bilby.gw.conversion.convert_to_lal_binary_black_hole_parameters\n"
          ]
        }
      ],
      "source": [
        "waveform_generator = bilby.gw.WaveformGenerator(\n",
        "    duration = waveform_arguments['duration'],\n",
        "    sampling_frequency = waveform_arguments['sampling_frequency'],\n",
        "    frequency_domain_source_model = bilby.gw.source.lal_binary_black_hole,\n",
        "    parameter_conversion = bilby.gw.conversion.convert_to_lal_binary_black_hole_parameters,\n",
        "    waveform_arguments = waveform_arguments,\n",
        ")"
      ]
    },
    {
      "cell_type": "code",
      "execution_count": 7,
      "metadata": {
        "id": "Zsoy2L-eIQQF",
        "outputId": "14bbcf59-2ff6-4737-d723-9caa3703ebf1",
        "colab": {
          "base_uri": "https://localhost:8080/",
          "height": 981
        }
      },
      "outputs": [
        {
          "output_type": "stream",
          "name": "stderr",
          "text": [
            "/usr/local/lib/python3.11/dist-packages/lalsimulation/lalsimulation.py:8: UserWarning: Wswiglal-redir-stdio:\n",
            "\n",
            "SWIGLAL standard output/error redirection is enabled in IPython.\n",
            "This may lead to performance penalties. To disable locally, use:\n",
            "\n",
            "with lal.no_swig_redirect_standard_output_error():\n",
            "    ...\n",
            "\n",
            "To disable globally, use:\n",
            "\n",
            "lal.swig_redirect_standard_output_error(False)\n",
            "\n",
            "Note however that this will likely lead to error messages from\n",
            "LAL functions being either misdirected or lost when called from\n",
            "Jupyter notebooks.\n",
            "\n",
            "To suppress this warning, use:\n",
            "\n",
            "import warnings\n",
            "warnings.filterwarnings(\"ignore\", \"Wswiglal-redir-stdio\")\n",
            "import lal\n",
            "\n",
            "  import lal\n",
            "12:55 bilby WARNING : There are unused waveform kwargs. This is deprecated behavior and will\n",
            "result in an error in future releases. Make sure all of the waveform kwargs are correctly\n",
            "spelled.\n",
            "\n",
            "Unused waveform_kwargs: {'sampling_frequency': 1024, 'duration': 14, 'start_time': 1239082252.2}\n",
            "\n"
          ]
        },
        {
          "output_type": "execute_result",
          "data": {
            "text/plain": [
              "[<matplotlib.lines.Line2D at 0x7a6e000ea990>]"
            ]
          },
          "metadata": {},
          "execution_count": 7
        },
        {
          "output_type": "display_data",
          "data": {
            "text/plain": [
              "<Figure size 640x480 with 1 Axes>"
            ],
            "image/png": "[encoded data removed]"
          },
          "metadata": {}
        }
      ],
      "source": [
        "import matplotlib.pyplot as plt\n",
        "plt.plot(waveform_generator.time_domain_strain(injection_parameters)['plus'])"
      ]
    },
    {
      "cell_type": "code",
      "execution_count": 8,
      "metadata": {
        "id": "bUiEp71qIQQF"
      },
      "outputs": [],
      "source": [
        "ifos = bilby.gw.detector.InterferometerList(['H1', 'L1', 'V1'])\n",
        "ifos_00 = bilby.gw.detector.InterferometerList(['H1', 'L1', 'V1'])\n",
        "\n",
        "ifos.set_strain_data_from_power_spectral_densities(sampling_frequency=waveform_arguments['sampling_frequency'],\n",
        "                                                   duration=waveform_arguments['duration'],\n",
        "                                                   start_time=waveform_arguments['start_time'])\n",
        "\n",
        "ifos_00.set_strain_data_from_zero_noise(sampling_frequency=waveform_arguments['sampling_frequency'],\n",
        "                                        duration=waveform_arguments['duration'],\n",
        "                                        start_time=waveform_arguments['start_time'])"
      ]
    },
    {
      "cell_type": "code",
      "execution_count": 9,
      "metadata": {
        "id": "0poPn3KLIQQF",
        "outputId": "53da470a-5937-4c38-aeca-47980a1595fa",
        "colab": {
          "base_uri": "https://localhost:8080/",
          "height": 481
        }
      },
      "outputs": [
        {
          "output_type": "execute_result",
          "data": {
            "text/plain": [
              "<matplotlib.legend.Legend at 0x7a6dfc306850>"
            ]
          },
          "metadata": {},
          "execution_count": 9
        },
        {
          "output_type": "display_data",
          "data": {
            "text/plain": [
              "<Figure size 640x480 with 1 Axes>"
            ],
            "image/png": "[encoded data removed]"
          },
          "metadata": {}
        }
      ],
      "source": [
        "plt.plot(ifos_00[1].time_array, ifos_00[1].time_domain_strain, label='L1 zero noise')\n",
        "plt.plot(ifos[1].time_array, ifos[1].time_domain_strain, label='L1 noisy', alpha=0.5)\n",
        "plt.legend()"
      ]
    },
    {
      "cell_type": "code",
      "execution_count": 10,
      "metadata": {
        "id": "EBSJkJd0IQQF",
        "colab": {
          "base_uri": "https://localhost:8080/"
        },
        "outputId": "899df6ec-ac07-4737-8302-6ed2c7350ecf"
      },
      "outputs": [
        {
          "output_type": "stream",
          "name": "stderr",
          "text": [
            "12:55 bilby WARNING : There are unused waveform kwargs. This is deprecated behavior and will\n",
            "result in an error in future releases. Make sure all of the waveform kwargs are correctly\n",
            "spelled.\n",
            "\n",
            "Unused waveform_kwargs: {'sampling_frequency': 1024, 'duration': 14, 'start_time': 1239082252.2}\n",
            "\n",
            "12:55 bilby INFO    : Injected signal in H1:\n",
            "12:55 bilby INFO    :   optimal SNR = 14.52\n",
            "12:55 bilby INFO    :   matched filter SNR = 13.25-1.34j\n",
            "12:55 bilby INFO    :   mass_1 = 34.615\n",
            "12:55 bilby INFO    :   mass_2 = 9.545\n",
            "12:55 bilby INFO    :   mass_ratio = 0.2757475083056478\n",
            "12:55 bilby INFO    :   chirp_mass = 15.220129522101399\n",
            "12:55 bilby INFO    :   chi_1 = 0.44\n",
            "12:55 bilby INFO    :   chi_2 = 0.3\n",
            "12:55 bilby INFO    :   luminosity_distance = 740\n",
            "12:55 bilby INFO    :   theta_jn = 0.71\n",
            "12:55 bilby INFO    :   psi = 2.0\n",
            "12:55 bilby INFO    :   ra = 1.375\n",
            "12:55 bilby INFO    :   dec = -0.7\n",
            "12:55 bilby INFO    :   phase = 1.2\n",
            "12:55 bilby INFO    :   geocent_time = 1239082262.2\n",
            "12:55 bilby INFO    : Injected signal in L1:\n",
            "12:55 bilby INFO    :   optimal SNR = 16.12\n",
            "12:55 bilby INFO    :   matched filter SNR = 18.51+1.97j\n",
            "12:55 bilby INFO    :   mass_1 = 34.615\n",
            "12:55 bilby INFO    :   mass_2 = 9.545\n",
            "12:55 bilby INFO    :   mass_ratio = 0.2757475083056478\n",
            "12:55 bilby INFO    :   chirp_mass = 15.220129522101399\n",
            "12:55 bilby INFO    :   chi_1 = 0.44\n",
            "12:55 bilby INFO    :   chi_2 = 0.3\n",
            "12:55 bilby INFO    :   luminosity_distance = 740\n",
            "12:55 bilby INFO    :   theta_jn = 0.71\n",
            "12:55 bilby INFO    :   psi = 2.0\n",
            "12:55 bilby INFO    :   ra = 1.375\n",
            "12:55 bilby INFO    :   dec = -0.7\n",
            "12:55 bilby INFO    :   phase = 1.2\n",
            "12:55 bilby INFO    :   geocent_time = 1239082262.2\n",
            "12:55 bilby INFO    : Injected signal in V1:\n",
            "12:55 bilby INFO    :   optimal SNR = 17.31\n",
            "12:55 bilby INFO    :   matched filter SNR = 18.91+1.37j\n",
            "12:55 bilby INFO    :   mass_1 = 34.615\n",
            "12:55 bilby INFO    :   mass_2 = 9.545\n",
            "12:55 bilby INFO    :   mass_ratio = 0.2757475083056478\n",
            "12:55 bilby INFO    :   chirp_mass = 15.220129522101399\n",
            "12:55 bilby INFO    :   chi_1 = 0.44\n",
            "12:55 bilby INFO    :   chi_2 = 0.3\n",
            "12:55 bilby INFO    :   luminosity_distance = 740\n",
            "12:55 bilby INFO    :   theta_jn = 0.71\n",
            "12:55 bilby INFO    :   psi = 2.0\n",
            "12:55 bilby INFO    :   ra = 1.375\n",
            "12:55 bilby INFO    :   dec = -0.7\n",
            "12:55 bilby INFO    :   phase = 1.2\n",
            "12:55 bilby INFO    :   geocent_time = 1239082262.2\n",
            "12:55 bilby INFO    : Injected signal in H1:\n",
            "12:55 bilby INFO    :   optimal SNR = 14.52\n",
            "12:55 bilby INFO    :   matched filter SNR = 14.52-0.00j\n",
            "12:55 bilby INFO    :   mass_1 = 34.615\n",
            "12:55 bilby INFO    :   mass_2 = 9.545\n",
            "12:55 bilby INFO    :   mass_ratio = 0.2757475083056478\n",
            "12:55 bilby INFO    :   chirp_mass = 15.220129522101399\n",
            "12:55 bilby INFO    :   chi_1 = 0.44\n",
            "12:55 bilby INFO    :   chi_2 = 0.3\n",
            "12:55 bilby INFO    :   luminosity_distance = 740\n",
            "12:55 bilby INFO    :   theta_jn = 0.71\n",
            "12:55 bilby INFO    :   psi = 2.0\n",
            "12:55 bilby INFO    :   ra = 1.375\n",
            "12:55 bilby INFO    :   dec = -0.7\n",
            "12:55 bilby INFO    :   phase = 1.2\n",
            "12:55 bilby INFO    :   geocent_time = 1239082262.2\n",
            "12:55 bilby INFO    : Injected signal in L1:\n",
            "12:55 bilby INFO    :   optimal SNR = 16.12\n",
            "12:55 bilby INFO    :   matched filter SNR = 16.12-0.00j\n",
            "12:55 bilby INFO    :   mass_1 = 34.615\n",
            "12:55 bilby INFO    :   mass_2 = 9.545\n",
            "12:55 bilby INFO    :   mass_ratio = 0.2757475083056478\n",
            "12:55 bilby INFO    :   chirp_mass = 15.220129522101399\n",
            "12:55 bilby INFO    :   chi_1 = 0.44\n",
            "12:55 bilby INFO    :   chi_2 = 0.3\n",
            "12:55 bilby INFO    :   luminosity_distance = 740\n",
            "12:55 bilby INFO    :   theta_jn = 0.71\n",
            "12:55 bilby INFO    :   psi = 2.0\n",
            "12:55 bilby INFO    :   ra = 1.375\n",
            "12:55 bilby INFO    :   dec = -0.7\n",
            "12:55 bilby INFO    :   phase = 1.2\n",
            "12:55 bilby INFO    :   geocent_time = 1239082262.2\n",
            "12:55 bilby INFO    : Injected signal in V1:\n",
            "12:55 bilby INFO    :   optimal SNR = 17.31\n",
            "12:55 bilby INFO    :   matched filter SNR = 17.31+0.00j\n",
            "12:55 bilby INFO    :   mass_1 = 34.615\n",
            "12:55 bilby INFO    :   mass_2 = 9.545\n",
            "12:55 bilby INFO    :   mass_ratio = 0.2757475083056478\n",
            "12:55 bilby INFO    :   chirp_mass = 15.220129522101399\n",
            "12:55 bilby INFO    :   chi_1 = 0.44\n",
            "12:55 bilby INFO    :   chi_2 = 0.3\n",
            "12:55 bilby INFO    :   luminosity_distance = 740\n",
            "12:55 bilby INFO    :   theta_jn = 0.71\n",
            "12:55 bilby INFO    :   psi = 2.0\n",
            "12:55 bilby INFO    :   ra = 1.375\n",
            "12:55 bilby INFO    :   dec = -0.7\n",
            "12:55 bilby INFO    :   phase = 1.2\n",
            "12:55 bilby INFO    :   geocent_time = 1239082262.2\n"
          ]
        },
        {
          "output_type": "execute_result",
          "data": {
            "text/plain": [
              "[{'plus': array([ 0.00000000e+00-0.00000000e+00j,  0.00000000e+00-0.00000000e+00j,\n",
              "          0.00000000e+00-0.00000000e+00j, ...,\n",
              "         -5.02326680e-26+1.96509451e-26j, -5.01534359e-26+1.95819160e-26j,\n",
              "          0.00000000e+00-0.00000000e+00j]),\n",
              "  'cross': array([0.00000000e+00+0.00000000e+00j, 0.00000000e+00+0.00000000e+00j,\n",
              "         0.00000000e+00+0.00000000e+00j, ...,\n",
              "         1.89224902e-26+4.83705572e-26j, 1.88560199e-26+4.82942622e-26j,\n",
              "         0.00000000e+00+0.00000000e+00j])},\n",
              " {'plus': array([ 0.00000000e+00-0.00000000e+00j,  0.00000000e+00-0.00000000e+00j,\n",
              "          0.00000000e+00-0.00000000e+00j, ...,\n",
              "         -5.02326680e-26+1.96509451e-26j, -5.01534359e-26+1.95819160e-26j,\n",
              "          0.00000000e+00-0.00000000e+00j]),\n",
              "  'cross': array([0.00000000e+00+0.00000000e+00j, 0.00000000e+00+0.00000000e+00j,\n",
              "         0.00000000e+00+0.00000000e+00j, ...,\n",
              "         1.89224902e-26+4.83705572e-26j, 1.88560199e-26+4.82942622e-26j,\n",
              "         0.00000000e+00+0.00000000e+00j])},\n",
              " {'plus': array([ 0.00000000e+00-0.00000000e+00j,  0.00000000e+00-0.00000000e+00j,\n",
              "          0.00000000e+00-0.00000000e+00j, ...,\n",
              "         -5.02326680e-26+1.96509451e-26j, -5.01534359e-26+1.95819160e-26j,\n",
              "          0.00000000e+00-0.00000000e+00j]),\n",
              "  'cross': array([0.00000000e+00+0.00000000e+00j, 0.00000000e+00+0.00000000e+00j,\n",
              "         0.00000000e+00+0.00000000e+00j, ...,\n",
              "         1.89224902e-26+4.83705572e-26j, 1.88560199e-26+4.82942622e-26j,\n",
              "         0.00000000e+00+0.00000000e+00j])}]"
            ]
          },
          "metadata": {},
          "execution_count": 10
        }
      ],
      "source": [
        "ifos.inject_signal(\n",
        "    parameters=injection_parameters,\n",
        "    waveform_generator=waveform_generator,\n",
        ")\n",
        "\n",
        "ifos_00.inject_signal(\n",
        "    parameters=injection_parameters,\n",
        "    waveform_generator=waveform_generator,\n",
        ")"
      ]
    },
    {
      "cell_type": "code",
      "execution_count": 11,
      "metadata": {
        "id": "VelqFHLcIQQG",
        "outputId": "81fdee3a-962d-4e37-edec-40362074f4a4",
        "colab": {
          "base_uri": "https://localhost:8080/",
          "height": 481
        }
      },
      "outputs": [
        {
          "output_type": "execute_result",
          "data": {
            "text/plain": [
              "<matplotlib.legend.Legend at 0x7a6dfad47050>"
            ]
          },
          "metadata": {},
          "execution_count": 11
        },
        {
          "output_type": "display_data",
          "data": {
            "text/plain": [
              "<Figure size 640x480 with 1 Axes>"
            ],
            "image/png": "[encoded data removed]"
          },
          "metadata": {}
        }
      ],
      "source": [
        "plt.plot(ifos_00[1].time_array, ifos_00[1].time_domain_strain, label='L1 zero noise')\n",
        "plt.plot(ifos[1].time_array, ifos[1].time_domain_strain, label='L1 noisy', alpha=0.5)\n",
        "plt.legend()"
      ]
    },
    {
      "cell_type": "markdown",
      "metadata": {
        "id": "k4MAd09PIQQG"
      },
      "source": [
        "$p(\\theta|d) = \\dfrac{\\mathcal{L}(d|\\theta) p(\\theta)}{\\mathcal{Z(d)}}$"
      ]
    },
    {
      "cell_type": "code",
      "execution_count": 12,
      "metadata": {
        "id": "0WJ4yRBoIQQH",
        "outputId": "5da6ff1e-43e8-4cfd-fcdb-3eb32da02dd4",
        "colab": {
          "base_uri": "https://localhost:8080/"
        }
      },
      "outputs": [
        {
          "output_type": "stream",
          "name": "stderr",
          "text": [
            "12:55 bilby INFO    : Using aligned spin prior\n",
            "12:55 bilby INFO    : No prior given, using default BBH priors in /usr/local/lib/python3.11/dist-packages/bilby/gw/prior_files/aligned_spins_bbh.prior.\n"
          ]
        },
        {
          "output_type": "execute_result",
          "data": {
            "text/plain": [
              "{'mass_1': Constraint(minimum=5, maximum=100, name='mass_1', latex_label='$m_1$', unit=None),\n",
              " 'mass_2': Constraint(minimum=5, maximum=100, name='mass_2', latex_label='$m_2$', unit=None),\n",
              " 'mass_ratio': bilby.gw.prior.UniformInComponentsMassRatio(minimum=0.125, maximum=1, name='mass_ratio', latex_label='$q$', unit=None, boundary=None, equal_mass=False),\n",
              " 'chirp_mass': bilby.gw.prior.UniformInComponentsChirpMass(minimum=5, maximum=50, name='chirp_mass', latex_label='$\\\\mathcal{M}$', unit=None, boundary=None),\n",
              " 'luminosity_distance': bilby.gw.prior.UniformSourceFrame(minimum=100.0, maximum=5000.0, cosmology='Planck15', name='luminosity_distance', latex_label='$d_L$', unit='Mpc', boundary=None),\n",
              " 'dec': Cosine(minimum=-1.5707963267948966, maximum=1.5707963267948966, name='dec', latex_label='$\\\\mathrm{DEC}$', unit=None, boundary=None),\n",
              " 'ra': Uniform(minimum=0, maximum=6.283185307179586, name='ra', latex_label='$\\\\mathrm{RA}$', unit=None, boundary='periodic'),\n",
              " 'theta_jn': Sine(minimum=0, maximum=3.141592653589793, name='theta_jn', latex_label='$\\\\theta_{JN}$', unit=None, boundary=None),\n",
              " 'psi': Uniform(minimum=0, maximum=3.141592653589793, name='psi', latex_label='$\\\\psi$', unit=None, boundary='periodic'),\n",
              " 'phase': Uniform(minimum=0, maximum=6.283185307179586, name='phase', latex_label='$\\\\phi$', unit=None, boundary='periodic'),\n",
              " 'chi_1': bilby.gw.prior.AlignedSpin(a_prior=Uniform(minimum=0, maximum=0.99, name=None, latex_label=None, unit=None, boundary=None), z_prior=Uniform(minimum=-1, maximum=1, name=None, latex_label=None, unit=None, boundary=None), name='chi_1', latex_label='$\\\\chi_1$', unit=None, boundary=None, minimum=-0.99, maximum=0.99),\n",
              " 'chi_2': bilby.gw.prior.AlignedSpin(a_prior=Uniform(minimum=0, maximum=0.99, name=None, latex_label=None, unit=None, boundary=None), z_prior=Uniform(minimum=-1, maximum=1, name=None, latex_label=None, unit=None, boundary=None), name='chi_2', latex_label='$\\\\chi_2$', unit=None, boundary=None, minimum=-0.99, maximum=0.99)}"
            ]
          },
          "metadata": {},
          "execution_count": 12
        }
      ],
      "source": [
        "priors = bilby.gw.prior.BBHPriorDict(aligned_spin=True)\n",
        "# priors['mass_1'] = bilby.core.prior.Uniform(name='mass_1', minimum=5, maximum=50, unit=None)\n",
        "# priors['mass_2'] = bilby.core.prior.Uniform(name='mass_2', minimum=5, maximum=50, unit=None)\n",
        "# pop_keys = [\"mass_ratio\", \"chirp_mass\"]\n",
        "# for key in pop_keys:\n",
        "#     priors.pop(key)\n",
        "priors['chirp_mass']= bilby.gw.prior.UniformInComponentsChirpMass(minimum=5, maximum=50, name='chirp_mass')\n",
        "priors"
      ]
    },
    {
      "cell_type": "code",
      "execution_count": 13,
      "metadata": {
        "id": "0bMWHf6XIQQH"
      },
      "outputs": [],
      "source": [
        "keys_of_interest = ['chi_1', 'chi_2']\n",
        "for key in priors.keys():\n",
        "    if key not in keys_of_interest:\n",
        "        priors[key] = injection_parameters[key]\n",
        "\n",
        "priors['geocent_time'] = injection_parameters['geocent_time']\n"
      ]
    },
    {
      "cell_type": "code",
      "execution_count": 14,
      "metadata": {
        "id": "dZp9ISiNIQQH"
      },
      "outputs": [],
      "source": [
        "likelihood = bilby.gw.GravitationalWaveTransient(\n",
        "    interferometers=ifos,\n",
        "    waveform_generator=waveform_generator,\n",
        "    priors=priors,\n",
        ")"
      ]
    },
    {
      "cell_type": "code",
      "source": [
        "bilby.core.utils.logger.setLevel(\"ERROR\")"
      ],
      "metadata": {
        "id": "bKgDO36FXywa"
      },
      "execution_count": 15,
      "outputs": []
    },
    {
      "cell_type": "code",
      "source": [],
      "metadata": {
        "id": "Orjwz8VHX56n"
      },
      "execution_count": null,
      "outputs": []
    },
    {
      "cell_type": "code",
      "execution_count": null,
      "metadata": {
        "id": "L028mQGbIQQH",
        "outputId": "eb9bcce8-0928-4c0a-e815-96947cd9574e",
        "colab": {
          "base_uri": "https://localhost:8080/",
          "height": 105,
          "referenced_widgets": [
            "f470cb66631a48508e5e0ee45d338f45",
            "b7d80901d13e4d22a149b29e04a807d2",
            "bfa931e12b384b27a824ce2ebf5c16dd",
            "7646ab0ea6cb42b6a445d96f2c100b07",
            "b97d7f7cf8564f2bb81bff5a2c875e72",
            "121f3472fbcf4d258da70fd2168f4ce6",
            "69d0019ab76648119881e49267ca4d89",
            "6a9c0ac689ec42fa87468f8595ed6019",
            "db226788234e42b29fe87f06ae089760",
            "7802be43aec0444f89dfcbd681689ee1",
            "54ce9d0cfd7b4df4b132df5f719fff5b"
          ]
        }
      },
      "outputs": [
        {
          "metadata": {
            "tags": null
          },
          "name": "stderr",
          "output_type": "stream",
          "text": [
            "/usr/local/lib/python3.11/dist-packages/_distutils_hack/__init__.py:31: UserWarning: Setuptools is replacing distutils. Support for replacing an already imported distutils is deprecated. In the future, this condition will fail. Register concerns at https://github.com/pypa/setuptools/issues/new?template=distutils-deprecation.yml\n",
            "  warnings.warn(\n"
          ]
        },
        {
          "data": {
            "application/vnd.jupyter.widget-view+json": {
              "model_id": "f470cb66631a48508e5e0ee45d338f45",
              "version_major": 2,
              "version_minor": 0
            },
            "text/plain": [
              "1it [00:00, ?it/s]"
            ]
          },
          "metadata": {},
          "output_type": "display_data"
        }
      ],
      "source": [
        "result = bilby.core.sampler.run_sampler(\n",
        "    likelihood=likelihood,\n",
        "    priors=priors,\n",
        "    sampler='dynesty',\n",
        "    outdir='./outdir',\n",
        "    label='legends',\n",
        "    nlive=500,\n",
        "    resume = False,\n",
        ")"
      ]
    },
    {
      "cell_type": "code",
      "execution_count": null,
      "metadata": {
        "id": "szcbUgpvIQQI"
      },
      "outputs": [],
      "source": [
        "truths = {key:injection_parameters[key] for key in keys_of_interest}\n",
        "result.plot_corner(truths=truths)"
      ]
    },
    {
      "cell_type": "code",
      "source": [
        "pop_keys = [\"mass_1\", \"mass_2\"]\n",
        "for key in pop_keys:\n",
        "    priors.pop(key)"
      ],
      "metadata": {
        "id": "MYZ1OqJJW-lW"
      },
      "execution_count": null,
      "outputs": []
    },
    {
      "cell_type": "code",
      "execution_count": null,
      "metadata": {
        "id": "Ku7hZ82gIQQI"
      },
      "outputs": [],
      "source": [
        "bilby.core.utils.logger.setLevel(\"WARNING\")"
      ]
    }
  ],
  "metadata": {
    "kernelspec": {
      "display_name": "tmnre_lvc",
      "language": "python",
      "name": "python3"
    },
    "language_info": {
      "codemirror_mode": {
        "name": "ipython",
        "version": 3
      },
      "file_extension": ".py",
      "mimetype": "text/x-python",
      "name": "python",
      "nbconvert_exporter": "python",
      "pygments_lexer": "ipython3",
      "version": "3.10.4"
    },
    "colab": {
      "provenance": []
    },
    "widgets": {
      "application/vnd.jupyter.widget-state+json": {
        "f470cb66631a48508e5e0ee45d338f45": {
          "model_module": "@jupyter-widgets/controls",
          "model_name": "HBoxModel",
          "model_module_version": "1.5.0",
          "state": {
            "_dom_classes": [],
            "_model_module": "@jupyter-widgets/controls",
            "_model_module_version": "1.5.0",
            "_model_name": "HBoxModel",
            "_view_count": null,
            "_view_module": "@jupyter-widgets/controls",
            "_view_module_version": "1.5.0",
            "_view_name": "HBoxView",
            "box_style": "",
            "children": [
              "IPY_MODEL_b7d80901d13e4d22a149b29e04a807d2",
              "IPY_MODEL_bfa931e12b384b27a824ce2ebf5c16dd",
              "IPY_MODEL_7646ab0ea6cb42b6a445d96f2c100b07"
            ],
            "layout": "IPY_MODEL_b97d7f7cf8564f2bb81bff5a2c875e72"
          }
        },
        "b7d80901d13e4d22a149b29e04a807d2": {
          "model_module": "@jupyter-widgets/controls",
          "model_name": "HTMLModel",
          "model_module_version": "1.5.0",
          "state": {
            "_dom_classes": [],
            "_model_module": "@jupyter-widgets/controls",
            "_model_module_version": "1.5.0",
            "_model_name": "HTMLModel",
            "_view_count": null,
            "_view_module": "@jupyter-widgets/controls",
            "_view_module_version": "1.5.0",
            "_view_name": "HTMLView",
            "description": "",
            "description_tooltip": null,
            "layout": "IPY_MODEL_121f3472fbcf4d258da70fd2168f4ce6",
            "placeholder": "​",
            "style": "IPY_MODEL_69d0019ab76648119881e49267ca4d89",
            "value": ""
          }
        },
        "bfa931e12b384b27a824ce2ebf5c16dd": {
          "model_module": "@jupyter-widgets/controls",
          "model_name": "FloatProgressModel",
          "model_module_version": "1.5.0",
          "state": {
            "_dom_classes": [],
            "_model_module": "@jupyter-widgets/controls",
            "_model_module_version": "1.5.0",
            "_model_name": "FloatProgressModel",
            "_view_count": null,
            "_view_module": "@jupyter-widgets/controls",
            "_view_module_version": "1.5.0",
            "_view_name": "ProgressView",
            "bar_style": "info",
            "description": "",
            "description_tooltip": null,
            "layout": "IPY_MODEL_6a9c0ac689ec42fa87468f8595ed6019",
            "max": 1,
            "min": 0,
            "orientation": "horizontal",
            "style": "IPY_MODEL_db226788234e42b29fe87f06ae089760",
            "value": 1
          }
        },
        "7646ab0ea6cb42b6a445d96f2c100b07": {
          "model_module": "@jupyter-widgets/controls",
          "model_name": "HTMLModel",
          "model_module_version": "1.5.0",
          "state": {
            "_dom_classes": [],
            "_model_module": "@jupyter-widgets/controls",
            "_model_module_version": "1.5.0",
            "_model_name": "HTMLModel",
            "_view_count": null,
            "_view_module": "@jupyter-widgets/controls",
            "_view_module_version": "1.5.0",
            "_view_name": "HTMLView",
            "description": "",
            "description_tooltip": null,
            "layout": "IPY_MODEL_7802be43aec0444f89dfcbd681689ee1",
            "placeholder": "​",
            "style": "IPY_MODEL_54ce9d0cfd7b4df4b132df5f719fff5b",
            "value": " 2915/? [2:38:25&lt;00:00,  4.92s/it, bound:177 nc:119 ncall:1.4e+05 eff:2.1% logz-ratio=295.37+/-0.11 dlogz:132.341&gt;0.1]"
          }
        },
        "b97d7f7cf8564f2bb81bff5a2c875e72": {
          "model_module": "@jupyter-widgets/base",
          "model_name": "LayoutModel",
          "model_module_version": "1.2.0",
          "state": {
            "_model_module": "@jupyter-widgets/base",
            "_model_module_version": "1.2.0",
            "_model_name": "LayoutModel",
            "_view_count": null,
            "_view_module": "@jupyter-widgets/base",
            "_view_module_version": "1.2.0",
            "_view_name": "LayoutView",
            "align_content": null,
            "align_items": null,
            "align_self": null,
            "border": null,
            "bottom": null,
            "display": null,
            "flex": null,
            "flex_flow": null,
            "grid_area": null,
            "grid_auto_columns": null,
            "grid_auto_flow": null,
            "grid_auto_rows": null,
            "grid_column": null,
            "grid_gap": null,
            "grid_row": null,
            "grid_template_areas": null,
            "grid_template_columns": null,
            "grid_template_rows": null,
            "height": null,
            "justify_content": null,
            "justify_items": null,
            "left": null,
            "margin": null,
            "max_height": null,
            "max_width": null,
            "min_height": null,
            "min_width": null,
            "object_fit": null,
            "object_position": null,
            "order": null,
            "overflow": null,
            "overflow_x": null,
            "overflow_y": null,
            "padding": null,
            "right": null,
            "top": null,
            "visibility": null,
            "width": null
          }
        },
        "121f3472fbcf4d258da70fd2168f4ce6": {
          "model_module": "@jupyter-widgets/base",
          "model_name": "LayoutModel",
          "model_module_version": "1.2.0",
          "state": {
            "_model_module": "@jupyter-widgets/base",
            "_model_module_version": "1.2.0",
            "_model_name": "LayoutModel",
            "_view_count": null,
            "_view_module": "@jupyter-widgets/base",
            "_view_module_version": "1.2.0",
            "_view_name": "LayoutView",
            "align_content": null,
            "align_items": null,
            "align_self": null,
            "border": null,
            "bottom": null,
            "display": null,
            "flex": null,
            "flex_flow": null,
            "grid_area": null,
            "grid_auto_columns": null,
            "grid_auto_flow": null,
            "grid_auto_rows": null,
            "grid_column": null,
            "grid_gap": null,
            "grid_row": null,
            "grid_template_areas": null,
            "grid_template_columns": null,
            "grid_template_rows": null,
            "height": null,
            "justify_content": null,
            "justify_items": null,
            "left": null,
            "margin": null,
            "max_height": null,
            "max_width": null,
            "min_height": null,
            "min_width": null,
            "object_fit": null,
            "object_position": null,
            "order": null,
            "overflow": null,
            "overflow_x": null,
            "overflow_y": null,
            "padding": null,
            "right": null,
            "top": null,
            "visibility": null,
            "width": null
          }
        },
        "69d0019ab76648119881e49267ca4d89": {
          "model_module": "@jupyter-widgets/controls",
          "model_name": "DescriptionStyleModel",
          "model_module_version": "1.5.0",
          "state": {
            "_model_module": "@jupyter-widgets/controls",
            "_model_module_version": "1.5.0",
            "_model_name": "DescriptionStyleModel",
            "_view_count": null,
            "_view_module": "@jupyter-widgets/base",
            "_view_module_version": "1.2.0",
            "_view_name": "StyleView",
            "description_width": ""
          }
        },
        "6a9c0ac689ec42fa87468f8595ed6019": {
          "model_module": "@jupyter-widgets/base",
          "model_name": "LayoutModel",
          "model_module_version": "1.2.0",
          "state": {
            "_model_module": "@jupyter-widgets/base",
            "_model_module_version": "1.2.0",
            "_model_name": "LayoutModel",
            "_view_count": null,
            "_view_module": "@jupyter-widgets/base",
            "_view_module_version": "1.2.0",
            "_view_name": "LayoutView",
            "align_content": null,
            "align_items": null,
            "align_self": null,
            "border": null,
            "bottom": null,
            "display": null,
            "flex": null,
            "flex_flow": null,
            "grid_area": null,
            "grid_auto_columns": null,
            "grid_auto_flow": null,
            "grid_auto_rows": null,
            "grid_column": null,
            "grid_gap": null,
            "grid_row": null,
            "grid_template_areas": null,
            "grid_template_columns": null,
            "grid_template_rows": null,
            "height": null,
            "justify_content": null,
            "justify_items": null,
            "left": null,
            "margin": null,
            "max_height": null,
            "max_width": null,
            "min_height": null,
            "min_width": null,
            "object_fit": null,
            "object_position": null,
            "order": null,
            "overflow": null,
            "overflow_x": null,
            "overflow_y": null,
            "padding": null,
            "right": null,
            "top": null,
            "visibility": null,
            "width": "20px"
          }
        },
        "db226788234e42b29fe87f06ae089760": {
          "model_module": "@jupyter-widgets/controls",
          "model_name": "ProgressStyleModel",
          "model_module_version": "1.5.0",
          "state": {
            "_model_module": "@jupyter-widgets/controls",
            "_model_module_version": "1.5.0",
            "_model_name": "ProgressStyleModel",
            "_view_count": null,
            "_view_module": "@jupyter-widgets/base",
            "_view_module_version": "1.2.0",
            "_view_name": "StyleView",
            "bar_color": null,
            "description_width": ""
          }
        },
        "7802be43aec0444f89dfcbd681689ee1": {
          "model_module": "@jupyter-widgets/base",
          "model_name": "LayoutModel",
          "model_module_version": "1.2.0",
          "state": {
            "_model_module": "@jupyter-widgets/base",
            "_model_module_version": "1.2.0",
            "_model_name": "LayoutModel",
            "_view_count": null,
            "_view_module": "@jupyter-widgets/base",
            "_view_module_version": "1.2.0",
            "_view_name": "LayoutView",
            "align_content": null,
            "align_items": null,
            "align_self": null,
            "border": null,
            "bottom": null,
            "display": null,
            "flex": null,
            "flex_flow": null,
            "grid_area": null,
            "grid_auto_columns": null,
            "grid_auto_flow": null,
            "grid_auto_rows": null,
            "grid_column": null,
            "grid_gap": null,
            "grid_row": null,
            "grid_template_areas": null,
            "grid_template_columns": null,
            "grid_template_rows": null,
            "height": null,
            "justify_content": null,
            "justify_items": null,
            "left": null,
            "margin": null,
            "max_height": null,
            "max_width": null,
            "min_height": null,
            "min_width": null,
            "object_fit": null,
            "object_position": null,
            "order": null,
            "overflow": null,
            "overflow_x": null,
            "overflow_y": null,
            "padding": null,
            "right": null,
            "top": null,
            "visibility": null,
            "width": null
          }
        },
        "54ce9d0cfd7b4df4b132df5f719fff5b": {
          "model_module": "@jupyter-widgets/controls",
          "model_name": "DescriptionStyleModel",
          "model_module_version": "1.5.0",
          "state": {
            "_model_module": "@jupyter-widgets/controls",
            "_model_module_version": "1.5.0",
            "_model_name": "DescriptionStyleModel",
            "_view_count": null,
            "_view_module": "@jupyter-widgets/base",
            "_view_module_version": "1.2.0",
            "_view_name": "StyleView",
            "description_width": ""
          }
        }
      }
    }
  },
  "nbformat": 4,
  "nbformat_minor": 0
}